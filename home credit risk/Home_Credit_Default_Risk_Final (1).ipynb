{
  "nbformat": 4,
  "nbformat_minor": 0,
  "metadata": {
    "kernelspec": {
      "display_name": "Python 3",
      "language": "python",
      "name": "python3"
    },
    "language_info": {
      "codemirror_mode": {
        "name": "ipython",
        "version": 3
      },
      "file_extension": ".py",
      "mimetype": "text/x-python",
      "name": "python",
      "nbconvert_exporter": "python",
      "pygments_lexer": "ipython3",
      "version": "3.7.4"
    },
    "colab": {
      "name": "Home Credit Default Risk_Final.ipynb",
      "provenance": [],
      "collapsed_sections": [
        "YuQjiYvez88T"
      ],
      "toc_visible": true
    },
    "accelerator": "GPU"
  },
  "cells": [
    {
      "cell_type": "code",
      "metadata": {
        "id": "zWUVfDEkz838",
        "colab_type": "code",
        "colab": {}
      },
      "source": [
        "import numpy as np\n",
        "import pandas as pd\n",
        "import warnings\n",
        "#from sklearn.preprocessing import MinMaxScaler, Imputer\n",
        "from sklearn.linear_model import LogisticRegression\n",
        "from sklearn.model_selection import train_test_split\n",
        "import xgboost as xgb\n",
        "import seaborn as sns\n",
        "import matplotlib.pyplot as plt\n",
        "%matplotlib inline\n",
        "import os"
      ],
      "execution_count": null,
      "outputs": []
    },
    {
      "cell_type": "code",
      "metadata": {
        "id": "KWHEKKvkEnqw",
        "colab_type": "code",
        "colab": {
          "base_uri": "https://localhost:8080/",
          "height": 34
        },
        "outputId": "c812025f-35ed-4fd2-9099-dc58e44700f6"
      },
      "source": [
        "from google.colab import drive\n",
        "drive.mount('/content/drive')"
      ],
      "execution_count": null,
      "outputs": [
        {
          "output_type": "stream",
          "text": [
            "Drive already mounted at /content/drive; to attempt to forcibly remount, call drive.mount(\"/content/drive\", force_remount=True).\n"
          ],
          "name": "stdout"
        }
      ]
    },
    {
      "cell_type": "code",
      "metadata": {
        "id": "1SFyWJwkz84H",
        "colab_type": "code",
        "colab": {}
      },
      "source": [
        "def reduce_mem_usage(df):\n",
        "    \"\"\" iterate through all the columns of a dataframe and modify the data type\n",
        "        to reduce memory usage.        \n",
        "       \n",
        "        1. Iterate over every column\n",
        "        2. Determine if the column is numeric\n",
        "        3. Determine if the column can be represented by an integer\n",
        "        4. Find the min and the max value\n",
        "        5. Determine and apply the smallest datatype that can fit the range of values\n",
        "\n",
        "    \"\"\"\n",
        "    start_mem = df.memory_usage().sum() / 1024**2\n",
        "    print('Memory usage of dataframe is {:.2f} MB'.format(start_mem))\n",
        "    \n",
        "    for col in df.columns:\n",
        "        col_type = df[col].dtype\n",
        "        \n",
        "        if col_type != object:\n",
        "            c_min = df[col].min()\n",
        "            c_max = df[col].max()\n",
        "            if str(col_type)[:3] == 'int':\n",
        "                if c_min > np.iinfo(np.int8).min and c_max < np.iinfo(np.int8).max:\n",
        "                    df[col] = df[col].astype(np.int8)\n",
        "                elif c_min > np.iinfo(np.int16).min and c_max < np.iinfo(np.int16).max:\n",
        "                    df[col] = df[col].astype(np.int16)\n",
        "                elif c_min > np.iinfo(np.int32).min and c_max < np.iinfo(np.int32).max:\n",
        "                    df[col] = df[col].astype(np.int32)\n",
        "                elif c_min > np.iinfo(np.int64).min and c_max < np.iinfo(np.int64).max:\n",
        "                    df[col] = df[col].astype(np.int64)  \n",
        "            else:\n",
        "                if c_min > np.finfo(np.float16).min and c_max < np.finfo(np.float16).max:\n",
        "                    df[col] = df[col].astype(np.float16)\n",
        "                elif c_min > np.finfo(np.float32).min and c_max < np.finfo(np.float32).max:\n",
        "                    df[col] = df[col].astype(np.float32)\n",
        "                else:\n",
        "                    df[col] = df[col].astype(np.float64)\n",
        "        else:\n",
        "            df[col] = df[col].astype('category')\n",
        "\n",
        "    end_mem = df.memory_usage().sum() / 1024**2\n",
        "    print('Memory usage after optimization is: {:.2f} MB'.format(end_mem))\n",
        "    print('Decreased by {:.1f}%'.format(100 * (start_mem - end_mem) / start_mem))\n",
        "    \n",
        "    return df\n",
        "\n",
        "\n",
        "def import_data(file):\n",
        "    \"\"\"create a dataframe and optimize its memory usage\"\"\"\n",
        "    df = pd.read_csv(file, parse_dates=True, keep_date_col=True)\n",
        "    df = reduce_mem_usage(df)\n",
        "    return df\n"
      ],
      "execution_count": null,
      "outputs": []
    },
    {
      "cell_type": "code",
      "metadata": {
        "id": "-YEB189Pz84N",
        "colab_type": "code",
        "colab": {
          "base_uri": "https://localhost:8080/",
          "height": 319
        },
        "outputId": "5742c75d-2c31-4e3a-bca3-ad3e10641fda"
      },
      "source": [
        "#train = import_data('D:\\\\Sem 2\\\\Finance\\\\Assignment\\\\home-credit-default-risk\\\\application_train.csv')\n",
        "#test = import_data('D:\\\\Sem 2\\\\Finance\\\\Assignment\\\\home-credit-default-risk\\\\application_test.csv')\n",
        "bureau = import_data('/content/drive/My Drive/FINA - Home Credit Assignment files/bureau.csv')\n",
        "bureau_balance = import_data('/content/drive/My Drive/FINA - Home Credit Assignment files/bureau_balance.csv')\n",
        "previous_application = import_data('/content/drive/My Drive/FINA - Home Credit Assignment files/previous_application.csv')\n",
        "credit_card_balance = import_data('/content/drive/My Drive/FINA - Home Credit Assignment files/credit_card_balance.csv')\n",
        "installments_payments = import_data('/content/drive/My Drive/FINA - Home Credit Assignment files/installments_payments.csv')\n",
        "POS_CASH_balance = import_data('/content/drive/My Drive/FINA - Home Credit Assignment files/POS_CASH_balance.csv')"
      ],
      "execution_count": null,
      "outputs": [
        {
          "output_type": "stream",
          "text": [
            "Memory usage of dataframe is 222.62 MB\n",
            "Memory usage after optimization is: 78.57 MB\n",
            "Decreased by 64.7%\n",
            "Memory usage of dataframe is 624.85 MB\n",
            "Memory usage after optimization is: 156.21 MB\n",
            "Decreased by 75.0%\n",
            "Memory usage of dataframe is 471.48 MB\n",
            "Memory usage after optimization is: 130.62 MB\n",
            "Decreased by 72.3%\n",
            "Memory usage of dataframe is 673.88 MB\n",
            "Memory usage after optimization is: 263.69 MB\n",
            "Decreased by 60.9%\n",
            "Memory usage of dataframe is 830.41 MB\n",
            "Memory usage after optimization is: 311.40 MB\n",
            "Decreased by 62.5%\n",
            "Memory usage of dataframe is 64.00 MB\n",
            "Memory usage after optimization is: 18.00 MB\n",
            "Decreased by 71.9%\n"
          ],
          "name": "stdout"
        }
      ]
    },
    {
      "cell_type": "code",
      "metadata": {
        "id": "NMAOUZOEz84S",
        "colab_type": "code",
        "colab": {
          "base_uri": "https://localhost:8080/",
          "height": 118
        },
        "outputId": "aa9930c6-f57d-4bff-8f7c-66b752b99c80"
      },
      "source": [
        "train = import_data('/content/drive/My Drive/FINA - Home Credit Assignment files/application_train.csv')\n",
        "test = import_data('/content/drive/My Drive/FINA - Home Credit Assignment files/application_test.csv')"
      ],
      "execution_count": null,
      "outputs": [
        {
          "output_type": "stream",
          "text": [
            "Memory usage of dataframe is 286.23 MB\n",
            "Memory usage after optimization is: 59.54 MB\n",
            "Decreased by 79.2%\n",
            "Memory usage of dataframe is 45.00 MB\n",
            "Memory usage after optimization is: 9.40 MB\n",
            "Decreased by 79.1%\n"
          ],
          "name": "stdout"
        }
      ]
    },
    {
      "cell_type": "code",
      "metadata": {
        "id": "cJ0YVBTBz84Y",
        "colab_type": "code",
        "colab": {
          "base_uri": "https://localhost:8080/",
          "height": 67
        },
        "outputId": "abeda642-e100-4d61-c3af-9e4dfe0087e6"
      },
      "source": [
        "train.TARGET.value_counts()"
      ],
      "execution_count": null,
      "outputs": [
        {
          "output_type": "execute_result",
          "data": {
            "text/plain": [
              "0    282686\n",
              "1     24825\n",
              "Name: TARGET, dtype: int64"
            ]
          },
          "metadata": {
            "tags": []
          },
          "execution_count": 87
        }
      ]
    },
    {
      "cell_type": "code",
      "metadata": {
        "id": "picPugviz84k",
        "colab_type": "code",
        "colab": {
          "base_uri": "https://localhost:8080/",
          "height": 282
        },
        "outputId": "31242e4d-1137-4eb5-b95d-0b70b41c2935"
      },
      "source": [
        "train.TARGET.plot.hist(color = 'b')"
      ],
      "execution_count": null,
      "outputs": [
        {
          "output_type": "execute_result",
          "data": {
            "text/plain": [
              "<matplotlib.axes._subplots.AxesSubplot at 0x7fb101f59908>"
            ]
          },
          "metadata": {
            "tags": []
          },
          "execution_count": 88
        },
        {
          "output_type": "display_data",
          "data": {
            "image/png": "[encoded data removed]",
            "text/plain": [
              "<Figure size 432x288 with 1 Axes>"
            ]
          },
          "metadata": {
            "tags": [],
            "needs_background": "light"
          }
        }
      ]
    },
    {
      "cell_type": "code",
      "metadata": {
        "id": "0OmDosulz84s",
        "colab_type": "code",
        "colab": {
          "base_uri": "https://localhost:8080/",
          "height": 34
        },
        "outputId": "e9e5e16e-f491-4a39-b92d-1edf52e03eba"
      },
      "source": [
        "sum(train.isna().sum())/(train.shape[0]*train.shape[1])*100"
      ],
      "execution_count": null,
      "outputs": [
        {
          "output_type": "execute_result",
          "data": {
            "text/plain": [
              "24.39594190712943"
            ]
          },
          "metadata": {
            "tags": []
          },
          "execution_count": 89
        }
      ]
    },
    {
      "cell_type": "code",
      "metadata": {
        "id": "kzLvA3-Bz84z",
        "colab_type": "code",
        "colab": {
          "base_uri": "https://localhost:8080/",
          "height": 202
        },
        "outputId": "680e8897-8ba5-4882-cdb4-daa532fb2683"
      },
      "source": [
        "train_NA = (np.round((train.isna().sum()/len(train)),3)).sort_values(ascending = False)*100\n",
        "train_NA = train_NA.sort_values(ascending = False)\n",
        "train_NA.head(10)"
      ],
      "execution_count": null,
      "outputs": [
        {
          "output_type": "execute_result",
          "data": {
            "text/plain": [
              "COMMONAREA_MEDI             69.9\n",
              "COMMONAREA_AVG              69.9\n",
              "COMMONAREA_MODE             69.9\n",
              "NONLIVINGAPARTMENTS_MODE    69.4\n",
              "NONLIVINGAPARTMENTS_MEDI    69.4\n",
              "NONLIVINGAPARTMENTS_AVG     69.4\n",
              "LIVINGAPARTMENTS_MEDI       68.4\n",
              "LIVINGAPARTMENTS_MODE       68.4\n",
              "FONDKAPREMONT_MODE          68.4\n",
              "LIVINGAPARTMENTS_AVG        68.4\n",
              "dtype: float64"
            ]
          },
          "metadata": {
            "tags": []
          },
          "execution_count": 91
        }
      ]
    },
    {
      "cell_type": "code",
      "metadata": {
        "id": "sBNR87rtz846",
        "colab_type": "code",
        "colab": {
          "base_uri": "https://localhost:8080/",
          "height": 302
        },
        "outputId": "16d64ab1-9b65-4011-f3a1-a2e394e6e2bb"
      },
      "source": [
        "# what about subcategories within categorical data\n",
        "train.select_dtypes('category').apply(pd.Series.nunique, axis = 0)"
      ],
      "execution_count": null,
      "outputs": [
        {
          "output_type": "execute_result",
          "data": {
            "text/plain": [
              "NAME_CONTRACT_TYPE             2\n",
              "CODE_GENDER                    3\n",
              "FLAG_OWN_CAR                   2\n",
              "FLAG_OWN_REALTY                2\n",
              "NAME_TYPE_SUITE                7\n",
              "NAME_INCOME_TYPE               8\n",
              "NAME_EDUCATION_TYPE            5\n",
              "NAME_FAMILY_STATUS             6\n",
              "NAME_HOUSING_TYPE              6\n",
              "OCCUPATION_TYPE               18\n",
              "WEEKDAY_APPR_PROCESS_START     7\n",
              "ORGANIZATION_TYPE             58\n",
              "FONDKAPREMONT_MODE             4\n",
              "HOUSETYPE_MODE                 3\n",
              "WALLSMATERIAL_MODE             7\n",
              "EMERGENCYSTATE_MODE            2\n",
              "dtype: int64"
            ]
          },
          "metadata": {
            "tags": []
          },
          "execution_count": 92
        }
      ]
    },
    {
      "cell_type": "code",
      "metadata": {
        "id": "Q_ymAsNXz85A",
        "colab_type": "code",
        "colab": {
          "base_uri": "https://localhost:8080/",
          "height": 218
        },
        "outputId": "3dbaae58-7d7c-40c2-e069-7fccf1001cf8"
      },
      "source": [
        "train.isna().sum()"
      ],
      "execution_count": null,
      "outputs": [
        {
          "output_type": "execute_result",
          "data": {
            "text/plain": [
              "SK_ID_CURR                        0\n",
              "TARGET                            0\n",
              "NAME_CONTRACT_TYPE                0\n",
              "CODE_GENDER                       0\n",
              "FLAG_OWN_CAR                      0\n",
              "                              ...  \n",
              "AMT_REQ_CREDIT_BUREAU_DAY     41519\n",
              "AMT_REQ_CREDIT_BUREAU_WEEK    41519\n",
              "AMT_REQ_CREDIT_BUREAU_MON     41519\n",
              "AMT_REQ_CREDIT_BUREAU_QRT     41519\n",
              "AMT_REQ_CREDIT_BUREAU_YEAR    41519\n",
              "Length: 122, dtype: int64"
            ]
          },
          "metadata": {
            "tags": []
          },
          "execution_count": 93
        }
      ]
    },
    {
      "cell_type": "markdown",
      "metadata": {
        "id": "L19nNVBCz85H",
        "colab_type": "text"
      },
      "source": [
        "# Dealing with missing values"
      ]
    },
    {
      "cell_type": "markdown",
      "metadata": {
        "id": "I16pNquZz85I",
        "colab_type": "text"
      },
      "source": [
        "### 1.POS_CASH_balance"
      ]
    },
    {
      "cell_type": "code",
      "metadata": {
        "id": "YU2C4wQmz85K",
        "colab_type": "code",
        "colab": {
          "base_uri": "https://localhost:8080/",
          "height": 168
        },
        "outputId": "19c24722-8ea1-4849-c2ba-12e633c18e8c"
      },
      "source": [
        "POS_CASH_balance.isnull().sum()"
      ],
      "execution_count": null,
      "outputs": [
        {
          "output_type": "execute_result",
          "data": {
            "text/plain": [
              "SK_ID_PREV                  0\n",
              "SK_ID_CURR                  0\n",
              "MONTHS_BALANCE              0\n",
              "CNT_INSTALMENT           1898\n",
              "CNT_INSTALMENT_FUTURE    1898\n",
              "NAME_CONTRACT_STATUS        0\n",
              "SK_DPD                      0\n",
              "SK_DPD_DEF                  0\n",
              "dtype: int64"
            ]
          },
          "metadata": {
            "tags": []
          },
          "execution_count": 94
        }
      ]
    },
    {
      "cell_type": "code",
      "metadata": {
        "id": "FdVQp2IGz85V",
        "colab_type": "code",
        "colab": {
          "base_uri": "https://localhost:8080/",
          "height": 168
        },
        "outputId": "bd9e3d13-4621-4013-ada6-aafc1b227034"
      },
      "source": [
        "POS_CASH_balance_clean = POS_CASH_balance.dropna(how = 'any',axis = 0)\n",
        "POS_CASH_balance_clean.isnull().sum()"
      ],
      "execution_count": null,
      "outputs": [
        {
          "output_type": "execute_result",
          "data": {
            "text/plain": [
              "SK_ID_PREV               0\n",
              "SK_ID_CURR               0\n",
              "MONTHS_BALANCE           0\n",
              "CNT_INSTALMENT           0\n",
              "CNT_INSTALMENT_FUTURE    0\n",
              "NAME_CONTRACT_STATUS     0\n",
              "SK_DPD                   0\n",
              "SK_DPD_DEF               0\n",
              "dtype: int64"
            ]
          },
          "metadata": {
            "tags": []
          },
          "execution_count": 95
        }
      ]
    },
    {
      "cell_type": "code",
      "metadata": {
        "id": "Pv5kZzFi2ZSE",
        "colab_type": "code",
        "colab": {}
      },
      "source": [
        ""
      ],
      "execution_count": null,
      "outputs": []
    },
    {
      "cell_type": "markdown",
      "metadata": {
        "id": "TVjfCQMcz85c",
        "colab_type": "text"
      },
      "source": [
        "### 2.Installments Payments"
      ]
    },
    {
      "cell_type": "code",
      "metadata": {
        "id": "p-U_LYbiz85d",
        "colab_type": "code",
        "colab": {
          "base_uri": "https://localhost:8080/",
          "height": 168
        },
        "outputId": "e270c681-b9a5-4751-9e8c-b6c2bfff25bc"
      },
      "source": [
        "installments_payments.isnull().sum()"
      ],
      "execution_count": null,
      "outputs": [
        {
          "output_type": "execute_result",
          "data": {
            "text/plain": [
              "SK_ID_PREV                   0\n",
              "SK_ID_CURR                   0\n",
              "NUM_INSTALMENT_VERSION       0\n",
              "NUM_INSTALMENT_NUMBER        0\n",
              "DAYS_INSTALMENT              0\n",
              "DAYS_ENTRY_PAYMENT        2905\n",
              "AMT_INSTALMENT               0\n",
              "AMT_PAYMENT               2905\n",
              "dtype: int64"
            ]
          },
          "metadata": {
            "tags": []
          },
          "execution_count": 96
        }
      ]
    },
    {
      "cell_type": "code",
      "metadata": {
        "id": "ek1FwPXBz85j",
        "colab_type": "code",
        "colab": {
          "base_uri": "https://localhost:8080/",
          "height": 185
        },
        "outputId": "e5af30b1-4073-4c03-e9c2-10b2595810d2"
      },
      "source": [
        "installments_payments.DAYS_ENTRY_PAYMENT[installments_payments.DAYS_ENTRY_PAYMENT.isnull()] = installments_payments.DAYS_ENTRY_PAYMENT.median()\n",
        "installments_payments.AMT_PAYMENT[installments_payments.AMT_PAYMENT.isnull()] = installments_payments.AMT_PAYMENT.median()"
      ],
      "execution_count": null,
      "outputs": [
        {
          "output_type": "stream",
          "text": [
            "/usr/local/lib/python3.6/dist-packages/ipykernel_launcher.py:1: SettingWithCopyWarning: \n",
            "A value is trying to be set on a copy of a slice from a DataFrame\n",
            "\n",
            "See the caveats in the documentation: https://pandas.pydata.org/pandas-docs/stable/user_guide/indexing.html#returning-a-view-versus-a-copy\n",
            "  \"\"\"Entry point for launching an IPython kernel.\n",
            "/usr/local/lib/python3.6/dist-packages/ipykernel_launcher.py:2: SettingWithCopyWarning: \n",
            "A value is trying to be set on a copy of a slice from a DataFrame\n",
            "\n",
            "See the caveats in the documentation: https://pandas.pydata.org/pandas-docs/stable/user_guide/indexing.html#returning-a-view-versus-a-copy\n",
            "  \n"
          ],
          "name": "stderr"
        }
      ]
    },
    {
      "cell_type": "markdown",
      "metadata": {
        "id": "01CjsLepz85q",
        "colab_type": "text"
      },
      "source": [
        "### 3.Credit Card Balance"
      ]
    },
    {
      "cell_type": "code",
      "metadata": {
        "id": "mssDif6lz85s",
        "colab_type": "code",
        "colab": {
          "base_uri": "https://localhost:8080/",
          "height": 689
        },
        "outputId": "6ea9b0cc-bb77-421f-cad2-0564b5509bc5"
      },
      "source": [
        "credit_card_balance.AMT_DRAWINGS_ATM_CURRENT[credit_card_balance.AMT_DRAWINGS_ATM_CURRENT.isnull()] = credit_card_balance.AMT_DRAWINGS_ATM_CURRENT.median()\n",
        "credit_card_balance.AMT_DRAWINGS_OTHER_CURRENT[credit_card_balance.AMT_DRAWINGS_OTHER_CURRENT.isnull()] = credit_card_balance.AMT_DRAWINGS_OTHER_CURRENT.median()\n",
        "credit_card_balance.AMT_DRAWINGS_POS_CURRENT[credit_card_balance.AMT_DRAWINGS_POS_CURRENT.isnull()] = credit_card_balance.AMT_DRAWINGS_POS_CURRENT.median()\n",
        "credit_card_balance.CNT_DRAWINGS_ATM_CURRENT[credit_card_balance.CNT_DRAWINGS_ATM_CURRENT.isnull()] = credit_card_balance.CNT_DRAWINGS_ATM_CURRENT.median()\n",
        "credit_card_balance.CNT_DRAWINGS_OTHER_CURRENT[credit_card_balance.CNT_DRAWINGS_OTHER_CURRENT.isnull()] = credit_card_balance.CNT_DRAWINGS_OTHER_CURRENT.median()\n",
        "credit_card_balance.CNT_DRAWINGS_POS_CURRENT[credit_card_balance.CNT_DRAWINGS_POS_CURRENT.isnull()] = credit_card_balance.CNT_DRAWINGS_POS_CURRENT.median()\n",
        "credit_card_balance.AMT_INST_MIN_REGULARITY[credit_card_balance.AMT_INST_MIN_REGULARITY.isnull()] = credit_card_balance.AMT_INST_MIN_REGULARITY.median()\n",
        "credit_card_balance.CNT_INSTALMENT_MATURE_CUM[credit_card_balance.CNT_INSTALMENT_MATURE_CUM.isnull()] = credit_card_balance.CNT_INSTALMENT_MATURE_CUM.median()\n",
        "credit_card_balance=credit_card_balance.drop(\"AMT_PAYMENT_CURRENT\",axis=1)"
      ],
      "execution_count": null,
      "outputs": [
        {
          "output_type": "stream",
          "text": [
            "/usr/local/lib/python3.6/dist-packages/ipykernel_launcher.py:1: SettingWithCopyWarning: \n",
            "A value is trying to be set on a copy of a slice from a DataFrame\n",
            "\n",
            "See the caveats in the documentation: https://pandas.pydata.org/pandas-docs/stable/user_guide/indexing.html#returning-a-view-versus-a-copy\n",
            "  \"\"\"Entry point for launching an IPython kernel.\n",
            "/usr/local/lib/python3.6/dist-packages/ipykernel_launcher.py:2: SettingWithCopyWarning: \n",
            "A value is trying to be set on a copy of a slice from a DataFrame\n",
            "\n",
            "See the caveats in the documentation: https://pandas.pydata.org/pandas-docs/stable/user_guide/indexing.html#returning-a-view-versus-a-copy\n",
            "  \n",
            "/usr/local/lib/python3.6/dist-packages/ipykernel_launcher.py:3: SettingWithCopyWarning: \n",
            "A value is trying to be set on a copy of a slice from a DataFrame\n",
            "\n",
            "See the caveats in the documentation: https://pandas.pydata.org/pandas-docs/stable/user_guide/indexing.html#returning-a-view-versus-a-copy\n",
            "  This is separate from the ipykernel package so we can avoid doing imports until\n",
            "/usr/local/lib/python3.6/dist-packages/ipykernel_launcher.py:4: SettingWithCopyWarning: \n",
            "A value is trying to be set on a copy of a slice from a DataFrame\n",
            "\n",
            "See the caveats in the documentation: https://pandas.pydata.org/pandas-docs/stable/user_guide/indexing.html#returning-a-view-versus-a-copy\n",
            "  after removing the cwd from sys.path.\n",
            "/usr/local/lib/python3.6/dist-packages/ipykernel_launcher.py:5: SettingWithCopyWarning: \n",
            "A value is trying to be set on a copy of a slice from a DataFrame\n",
            "\n",
            "See the caveats in the documentation: https://pandas.pydata.org/pandas-docs/stable/user_guide/indexing.html#returning-a-view-versus-a-copy\n",
            "  \"\"\"\n",
            "/usr/local/lib/python3.6/dist-packages/ipykernel_launcher.py:6: SettingWithCopyWarning: \n",
            "A value is trying to be set on a copy of a slice from a DataFrame\n",
            "\n",
            "See the caveats in the documentation: https://pandas.pydata.org/pandas-docs/stable/user_guide/indexing.html#returning-a-view-versus-a-copy\n",
            "  \n",
            "/usr/local/lib/python3.6/dist-packages/ipykernel_launcher.py:7: SettingWithCopyWarning: \n",
            "A value is trying to be set on a copy of a slice from a DataFrame\n",
            "\n",
            "See the caveats in the documentation: https://pandas.pydata.org/pandas-docs/stable/user_guide/indexing.html#returning-a-view-versus-a-copy\n",
            "  import sys\n",
            "/usr/local/lib/python3.6/dist-packages/ipykernel_launcher.py:8: SettingWithCopyWarning: \n",
            "A value is trying to be set on a copy of a slice from a DataFrame\n",
            "\n",
            "See the caveats in the documentation: https://pandas.pydata.org/pandas-docs/stable/user_guide/indexing.html#returning-a-view-versus-a-copy\n",
            "  \n"
          ],
          "name": "stderr"
        }
      ]
    },
    {
      "cell_type": "code",
      "metadata": {
        "id": "hXXqZHqDz85y",
        "colab_type": "code",
        "colab": {
          "base_uri": "https://localhost:8080/",
          "height": 403
        },
        "outputId": "193d77d1-81d7-4f06-aad6-4368821a9823"
      },
      "source": [
        "credit_card_balance.isnull().sum()"
      ],
      "execution_count": null,
      "outputs": [
        {
          "output_type": "execute_result",
          "data": {
            "text/plain": [
              "SK_ID_PREV                    0\n",
              "SK_ID_CURR                    0\n",
              "MONTHS_BALANCE                0\n",
              "AMT_BALANCE                   0\n",
              "AMT_CREDIT_LIMIT_ACTUAL       0\n",
              "AMT_DRAWINGS_ATM_CURRENT      0\n",
              "AMT_DRAWINGS_CURRENT          0\n",
              "AMT_DRAWINGS_OTHER_CURRENT    0\n",
              "AMT_DRAWINGS_POS_CURRENT      0\n",
              "AMT_INST_MIN_REGULARITY       0\n",
              "AMT_PAYMENT_TOTAL_CURRENT     0\n",
              "AMT_RECEIVABLE_PRINCIPAL      0\n",
              "AMT_RECIVABLE                 0\n",
              "AMT_TOTAL_RECEIVABLE          0\n",
              "CNT_DRAWINGS_ATM_CURRENT      0\n",
              "CNT_DRAWINGS_CURRENT          0\n",
              "CNT_DRAWINGS_OTHER_CURRENT    0\n",
              "CNT_DRAWINGS_POS_CURRENT      0\n",
              "CNT_INSTALMENT_MATURE_CUM     0\n",
              "NAME_CONTRACT_STATUS          0\n",
              "SK_DPD                        0\n",
              "SK_DPD_DEF                    0\n",
              "dtype: int64"
            ]
          },
          "metadata": {
            "tags": []
          },
          "execution_count": 99
        }
      ]
    },
    {
      "cell_type": "code",
      "metadata": {
        "id": "Xp7sHZxB2gBX",
        "colab_type": "code",
        "colab": {}
      },
      "source": [
        "# Flag to represent when Total income is greater than Credit\n",
        "train['INCOME_GT_CREDIT_FLAG'] = train['AMT_INCOME_TOTAL'] > train['AMT_CREDIT']\n",
        "# Column to represent Credit Income Percent\n",
        "train['CREDIT_INCOME_PERCENT'] = train['AMT_CREDIT'] / train['AMT_INCOME_TOTAL']\n",
        "# Column to represent Annuity Income percent\n",
        "train['ANNUITY_INCOME_PERCENT'] = train['AMT_ANNUITY'] / train['AMT_INCOME_TOTAL']\n",
        "# Column to represent Credit Term\n",
        "train['CREDIT_TERM'] = train['AMT_CREDIT'] / train['AMT_ANNUITY'] \n",
        "# Column to represent Days Employed percent in his life\n",
        "train['DAYS_EMPLOYED_PERCENT'] = train['DAYS_EMPLOYED'] / train['DAYS_BIRTH']\n",
        "# Shape of Application data"
      ],
      "execution_count": null,
      "outputs": []
    },
    {
      "cell_type": "code",
      "metadata": {
        "id": "neJARdiz22RX",
        "colab_type": "code",
        "colab": {
          "base_uri": "https://localhost:8080/",
          "height": 34
        },
        "outputId": "5fdae5d5-7683-478e-bac5-f2952b139b67"
      },
      "source": [
        "train.shape"
      ],
      "execution_count": null,
      "outputs": [
        {
          "output_type": "execute_result",
          "data": {
            "text/plain": [
              "(307511, 127)"
            ]
          },
          "metadata": {
            "tags": []
          },
          "execution_count": 101
        }
      ]
    },
    {
      "cell_type": "markdown",
      "metadata": {
        "id": "5HLNyZgpz854",
        "colab_type": "text"
      },
      "source": [
        "### 4.Bureau"
      ]
    },
    {
      "cell_type": "code",
      "metadata": {
        "id": "jX-1ZJuHz856",
        "colab_type": "code",
        "colab": {
          "base_uri": "https://localhost:8080/",
          "height": 319
        },
        "outputId": "7d6d93dc-c33b-4ad2-991d-d547d9a3f80b"
      },
      "source": [
        "np.sum(pd.isnull(bureau))"
      ],
      "execution_count": null,
      "outputs": [
        {
          "output_type": "execute_result",
          "data": {
            "text/plain": [
              "SK_ID_CURR                      0\n",
              "SK_ID_BUREAU                    0\n",
              "CREDIT_ACTIVE                   0\n",
              "CREDIT_CURRENCY                 0\n",
              "DAYS_CREDIT                     0\n",
              "CREDIT_DAY_OVERDUE              0\n",
              "DAYS_CREDIT_ENDDATE        105553\n",
              "DAYS_ENDDATE_FACT          633653\n",
              "AMT_CREDIT_MAX_OVERDUE    1124488\n",
              "CNT_CREDIT_PROLONG              0\n",
              "AMT_CREDIT_SUM                 13\n",
              "AMT_CREDIT_SUM_DEBT        257669\n",
              "AMT_CREDIT_SUM_LIMIT       591780\n",
              "AMT_CREDIT_SUM_OVERDUE          0\n",
              "CREDIT_TYPE                     0\n",
              "DAYS_CREDIT_UPDATE              0\n",
              "AMT_ANNUITY               1226791\n",
              "dtype: int64"
            ]
          },
          "metadata": {
            "tags": []
          },
          "execution_count": 102
        }
      ]
    },
    {
      "cell_type": "code",
      "metadata": {
        "id": "_qbrCfGez86D",
        "colab_type": "code",
        "colab": {}
      },
      "source": [
        "bureau.drop([\"AMT_ANNUITY\"],axis=1,inplace = True)\n",
        "bureau.drop([\"AMT_CREDIT_MAX_OVERDUE\"],axis=1,inplace = True)\n",
        "bureau[\"AMT_CREDIT_SUM_LIMIT\"].fillna(bureau[\"AMT_CREDIT_SUM_LIMIT\"].median(),inplace = True)"
      ],
      "execution_count": null,
      "outputs": []
    },
    {
      "cell_type": "code",
      "metadata": {
        "id": "pKmpmBxVz86P",
        "colab_type": "code",
        "colab": {}
      },
      "source": [
        "bue_debt_active=bureau.loc[bureau[\"CREDIT_ACTIVE\"]==\"Active\",]\n",
        "bureau.loc[(bureau[\"CREDIT_ACTIVE\"]==\"Active\") & (pd.isnull(bureau[\"AMT_CREDIT_SUM_DEBT\"])),\"AMT_CREDIT_SUM_DEBT\"]=bue_debt_active[\"AMT_CREDIT_SUM_DEBT\"].median()"
      ],
      "execution_count": null,
      "outputs": []
    },
    {
      "cell_type": "code",
      "metadata": {
        "id": "BNPNEgm3z86X",
        "colab_type": "code",
        "colab": {}
      },
      "source": [
        "bue_debt_badDebt=bureau.loc[bureau[\"CREDIT_ACTIVE\"]==\"Bad debt\",]\n",
        "bureau.loc[(bureau[\"CREDIT_ACTIVE\"]==\"Bad debt\") & (pd.isnull(bureau[\"AMT_CREDIT_SUM_DEBT\"])),\"AMT_CREDIT_SUM_DEBT\"]=bue_debt_active[\"AMT_CREDIT_SUM_DEBT\"].mean()"
      ],
      "execution_count": null,
      "outputs": []
    },
    {
      "cell_type": "code",
      "metadata": {
        "id": "eHb5PXIgz86f",
        "colab_type": "code",
        "colab": {}
      },
      "source": [
        "bue_debt_cosed=bureau.loc[bureau[\"CREDIT_ACTIVE\"]==\"Closed\",]\n",
        "bureau.loc[(bureau[\"CREDIT_ACTIVE\"]==\"Closed\") & (pd.isnull(bureau[\"AMT_CREDIT_SUM_DEBT\"])),\"AMT_CREDIT_SUM_DEBT\"]=bue_debt_active[\"AMT_CREDIT_SUM_DEBT\"].median()"
      ],
      "execution_count": null,
      "outputs": []
    },
    {
      "cell_type": "code",
      "metadata": {
        "id": "hiufXilDz86n",
        "colab_type": "code",
        "colab": {}
      },
      "source": [
        "bue_debt_sold=bureau.loc[bureau[\"CREDIT_ACTIVE\"]==\"Sold\",]\n",
        "bureau.loc[(bureau[\"CREDIT_ACTIVE\"]==\"Sold\") & (pd.isnull(bureau[\"AMT_CREDIT_SUM_DEBT\"])),\"AMT_CREDIT_SUM_DEBT\"]=bue_debt_active[\"AMT_CREDIT_SUM_DEBT\"].median()"
      ],
      "execution_count": null,
      "outputs": []
    },
    {
      "cell_type": "code",
      "metadata": {
        "id": "bfPqI83Uz86v",
        "colab_type": "code",
        "colab": {}
      },
      "source": [
        "bureau.loc[(pd.isnull(bureau[\"AMT_CREDIT_SUM\"])),\"AMT_CREDIT_SUM\"]=bue_debt_active[\"AMT_CREDIT_SUM\"].median()"
      ],
      "execution_count": null,
      "outputs": []
    },
    {
      "cell_type": "code",
      "metadata": {
        "id": "4I-kHCjVz865",
        "colab_type": "code",
        "colab": {}
      },
      "source": [
        "bureau.drop(\"DAYS_ENDDATE_FACT\",axis=1,inplace=True)"
      ],
      "execution_count": null,
      "outputs": []
    },
    {
      "cell_type": "code",
      "metadata": {
        "id": "CwND_cxMz87C",
        "colab_type": "code",
        "colab": {}
      },
      "source": [
        "bureau.loc[(bureau[\"CREDIT_ACTIVE\"]==\"Active\") & (pd.isnull(bureau[\"DAYS_CREDIT_ENDDATE\"])),\"DAYS_CREDIT_ENDDATE\"]=bue_debt_active[\"DAYS_CREDIT_ENDDATE\"].median()\n",
        "\n",
        "bureau.loc[(bureau[\"CREDIT_ACTIVE\"]==\"Closed\") & (pd.isnull(bureau[\"DAYS_CREDIT_ENDDATE\"])),\"DAYS_CREDIT_ENDDATE\"]=bue_debt_active[\"DAYS_CREDIT_ENDDATE\"].median()\n",
        "\n",
        "bureau.loc[(bureau[\"CREDIT_ACTIVE\"]==\"Sold\") & (pd.isnull(bureau[\"DAYS_CREDIT_ENDDATE\"])),\"DAYS_CREDIT_ENDDATE\"]=bue_debt_active[\"DAYS_CREDIT_ENDDATE\"].median()\n",
        "\n",
        "bureau.loc[(bureau[\"CREDIT_ACTIVE\"]==\"Bad debt\") & (pd.isnull(bureau[\"DAYS_CREDIT_ENDDATE\"])),\"DAYS_CREDIT_ENDDATE\"]=bue_debt_active[\"DAYS_CREDIT_ENDDATE\"].median()"
      ],
      "execution_count": null,
      "outputs": []
    },
    {
      "cell_type": "code",
      "metadata": {
        "id": "er17RjIcz87I",
        "colab_type": "code",
        "colab": {
          "base_uri": "https://localhost:8080/",
          "height": 286
        },
        "outputId": "c5a952c1-e7f3-43c8-f3ec-a8511a5fab94"
      },
      "source": [
        "np.sum(pd.isnull(bue_debt_badDebt))"
      ],
      "execution_count": null,
      "outputs": [
        {
          "output_type": "execute_result",
          "data": {
            "text/plain": [
              "SK_ID_CURR                 0\n",
              "SK_ID_BUREAU               0\n",
              "CREDIT_ACTIVE              0\n",
              "CREDIT_CURRENCY            0\n",
              "DAYS_CREDIT                0\n",
              "CREDIT_DAY_OVERDUE         0\n",
              "DAYS_CREDIT_ENDDATE        1\n",
              "DAYS_ENDDATE_FACT         11\n",
              "CNT_CREDIT_PROLONG         0\n",
              "AMT_CREDIT_SUM             0\n",
              "AMT_CREDIT_SUM_DEBT        6\n",
              "AMT_CREDIT_SUM_LIMIT       0\n",
              "AMT_CREDIT_SUM_OVERDUE     0\n",
              "CREDIT_TYPE                0\n",
              "DAYS_CREDIT_UPDATE         0\n",
              "dtype: int64"
            ]
          },
          "metadata": {
            "tags": []
          },
          "execution_count": 111
        }
      ]
    },
    {
      "cell_type": "code",
      "metadata": {
        "id": "z3SgFgEhz87N",
        "colab_type": "code",
        "colab": {
          "base_uri": "https://localhost:8080/",
          "height": 269
        },
        "outputId": "c48cd920-c78e-4cf3-8b0b-f781d52b91eb"
      },
      "source": [
        "np.sum(pd.isnull(bureau))"
      ],
      "execution_count": null,
      "outputs": [
        {
          "output_type": "execute_result",
          "data": {
            "text/plain": [
              "SK_ID_CURR                0\n",
              "SK_ID_BUREAU              0\n",
              "CREDIT_ACTIVE             0\n",
              "CREDIT_CURRENCY           0\n",
              "DAYS_CREDIT               0\n",
              "CREDIT_DAY_OVERDUE        0\n",
              "DAYS_CREDIT_ENDDATE       0\n",
              "CNT_CREDIT_PROLONG        0\n",
              "AMT_CREDIT_SUM            0\n",
              "AMT_CREDIT_SUM_DEBT       0\n",
              "AMT_CREDIT_SUM_LIMIT      0\n",
              "AMT_CREDIT_SUM_OVERDUE    0\n",
              "CREDIT_TYPE               0\n",
              "DAYS_CREDIT_UPDATE        0\n",
              "dtype: int64"
            ]
          },
          "metadata": {
            "tags": []
          },
          "execution_count": 112
        }
      ]
    },
    {
      "cell_type": "code",
      "metadata": {
        "id": "P5hDPIpJz87S",
        "colab_type": "code",
        "colab": {}
      },
      "source": [
        "previous_loan_counts = bureau.groupby('SK_ID_CURR', as_index=False)['SK_ID_BUREAU'].count().rename(columns = {'SK_ID_BUREAU': 'PREVIOUS_LOANS_COUNT'})"
      ],
      "execution_count": null,
      "outputs": []
    },
    {
      "cell_type": "code",
      "metadata": {
        "id": "Rri3TPTC2y--",
        "colab_type": "code",
        "colab": {}
      },
      "source": [
        ""
      ],
      "execution_count": null,
      "outputs": []
    },
    {
      "cell_type": "markdown",
      "metadata": {
        "id": "dgxR8ts9z87Y",
        "colab_type": "text"
      },
      "source": [
        "### 5.Previous Application"
      ]
    },
    {
      "cell_type": "code",
      "metadata": {
        "id": "skFzNeU0z87Z",
        "colab_type": "code",
        "colab": {
          "base_uri": "https://localhost:8080/",
          "height": 655
        },
        "outputId": "ff73fa78-099c-41f6-a8be-b8b97cdf23f0"
      },
      "source": [
        "previous_application.isnull().sum()"
      ],
      "execution_count": null,
      "outputs": [
        {
          "output_type": "execute_result",
          "data": {
            "text/plain": [
              "SK_ID_PREV                           0\n",
              "SK_ID_CURR                           0\n",
              "NAME_CONTRACT_TYPE                   0\n",
              "AMT_ANNUITY                     372235\n",
              "AMT_APPLICATION                      0\n",
              "AMT_CREDIT                           1\n",
              "AMT_DOWN_PAYMENT                895844\n",
              "AMT_GOODS_PRICE                 385515\n",
              "WEEKDAY_APPR_PROCESS_START           0\n",
              "HOUR_APPR_PROCESS_START              0\n",
              "FLAG_LAST_APPL_PER_CONTRACT          0\n",
              "NFLAG_LAST_APPL_IN_DAY               0\n",
              "RATE_DOWN_PAYMENT               895844\n",
              "RATE_INTEREST_PRIMARY          1664263\n",
              "RATE_INTEREST_PRIVILEGED       1664263\n",
              "NAME_CASH_LOAN_PURPOSE               0\n",
              "NAME_CONTRACT_STATUS                 0\n",
              "DAYS_DECISION                        0\n",
              "NAME_PAYMENT_TYPE                    0\n",
              "CODE_REJECT_REASON                   0\n",
              "NAME_TYPE_SUITE                 820405\n",
              "NAME_CLIENT_TYPE                     0\n",
              "NAME_GOODS_CATEGORY                  0\n",
              "NAME_PORTFOLIO                       0\n",
              "NAME_PRODUCT_TYPE                    0\n",
              "CHANNEL_TYPE                         0\n",
              "SELLERPLACE_AREA                     0\n",
              "NAME_SELLER_INDUSTRY                 0\n",
              "CNT_PAYMENT                     372230\n",
              "NAME_YIELD_GROUP                     0\n",
              "PRODUCT_COMBINATION                346\n",
              "DAYS_FIRST_DRAWING              673065\n",
              "DAYS_FIRST_DUE                  673065\n",
              "DAYS_LAST_DUE_1ST_VERSION       673065\n",
              "DAYS_LAST_DUE                   673065\n",
              "DAYS_TERMINATION                673065\n",
              "NFLAG_INSURED_ON_APPROVAL       673065\n",
              "dtype: int64"
            ]
          },
          "metadata": {
            "tags": []
          },
          "execution_count": 114
        }
      ]
    },
    {
      "cell_type": "code",
      "metadata": {
        "id": "iut7bJQNz87e",
        "colab_type": "code",
        "colab": {
          "base_uri": "https://localhost:8080/",
          "height": 1000
        },
        "outputId": "07254ca2-035c-4981-b510-d3c3ed9d325a"
      },
      "source": [
        "previous_application.AMT_ANNUITY[previous_application.AMT_ANNUITY.isnull()] = 0\n",
        "previous_application.AMT_GOODS_PRICE[previous_application.AMT_GOODS_PRICE.isnull()] = 0\n",
        "previous_application.DAYS_FIRST_DRAWING[previous_application.DAYS_FIRST_DRAWING.isnull()] = 0\n",
        "previous_application.DAYS_FIRST_DUE[previous_application.DAYS_FIRST_DUE.isnull()] = 0\n",
        "previous_application.DAYS_LAST_DUE[previous_application.DAYS_LAST_DUE.isnull()] = 0\n",
        "previous_application.DAYS_LAST_DUE_1ST_VERSION[previous_application.DAYS_LAST_DUE_1ST_VERSION.isnull()] = 0\n",
        "previous_application.DAYS_TERMINATION[previous_application.DAYS_TERMINATION.isnull()] = 0\n",
        "previous_application.NFLAG_INSURED_ON_APPROVAL[previous_application.NFLAG_INSURED_ON_APPROVAL.isnull()] = 0\n",
        "previous_application.AMT_DOWN_PAYMENT[previous_application.AMT_DOWN_PAYMENT.isnull()] = 0\n",
        "previous_application.RATE_DOWN_PAYMENT[previous_application.RATE_DOWN_PAYMENT.isnull()] = 0\n",
        "previous_application.CNT_PAYMENT[previous_application.CNT_PAYMENT.isnull()] = 0\n",
        "previous_application.AMT_CREDIT[previous_application.AMT_CREDIT.isnull()] = 0"
      ],
      "execution_count": null,
      "outputs": [
        {
          "output_type": "stream",
          "text": [
            "/usr/local/lib/python3.6/dist-packages/ipykernel_launcher.py:1: SettingWithCopyWarning: \n",
            "A value is trying to be set on a copy of a slice from a DataFrame\n",
            "\n",
            "See the caveats in the documentation: https://pandas.pydata.org/pandas-docs/stable/user_guide/indexing.html#returning-a-view-versus-a-copy\n",
            "  \"\"\"Entry point for launching an IPython kernel.\n",
            "/usr/local/lib/python3.6/dist-packages/ipykernel_launcher.py:2: SettingWithCopyWarning: \n",
            "A value is trying to be set on a copy of a slice from a DataFrame\n",
            "\n",
            "See the caveats in the documentation: https://pandas.pydata.org/pandas-docs/stable/user_guide/indexing.html#returning-a-view-versus-a-copy\n",
            "  \n",
            "/usr/local/lib/python3.6/dist-packages/ipykernel_launcher.py:3: SettingWithCopyWarning: \n",
            "A value is trying to be set on a copy of a slice from a DataFrame\n",
            "\n",
            "See the caveats in the documentation: https://pandas.pydata.org/pandas-docs/stable/user_guide/indexing.html#returning-a-view-versus-a-copy\n",
            "  This is separate from the ipykernel package so we can avoid doing imports until\n",
            "/usr/local/lib/python3.6/dist-packages/ipykernel_launcher.py:4: SettingWithCopyWarning: \n",
            "A value is trying to be set on a copy of a slice from a DataFrame\n",
            "\n",
            "See the caveats in the documentation: https://pandas.pydata.org/pandas-docs/stable/user_guide/indexing.html#returning-a-view-versus-a-copy\n",
            "  after removing the cwd from sys.path.\n",
            "/usr/local/lib/python3.6/dist-packages/ipykernel_launcher.py:5: SettingWithCopyWarning: \n",
            "A value is trying to be set on a copy of a slice from a DataFrame\n",
            "\n",
            "See the caveats in the documentation: https://pandas.pydata.org/pandas-docs/stable/user_guide/indexing.html#returning-a-view-versus-a-copy\n",
            "  \"\"\"\n",
            "/usr/local/lib/python3.6/dist-packages/ipykernel_launcher.py:6: SettingWithCopyWarning: \n",
            "A value is trying to be set on a copy of a slice from a DataFrame\n",
            "\n",
            "See the caveats in the documentation: https://pandas.pydata.org/pandas-docs/stable/user_guide/indexing.html#returning-a-view-versus-a-copy\n",
            "  \n",
            "/usr/local/lib/python3.6/dist-packages/ipykernel_launcher.py:7: SettingWithCopyWarning: \n",
            "A value is trying to be set on a copy of a slice from a DataFrame\n",
            "\n",
            "See the caveats in the documentation: https://pandas.pydata.org/pandas-docs/stable/user_guide/indexing.html#returning-a-view-versus-a-copy\n",
            "  import sys\n",
            "/usr/local/lib/python3.6/dist-packages/ipykernel_launcher.py:8: SettingWithCopyWarning: \n",
            "A value is trying to be set on a copy of a slice from a DataFrame\n",
            "\n",
            "See the caveats in the documentation: https://pandas.pydata.org/pandas-docs/stable/user_guide/indexing.html#returning-a-view-versus-a-copy\n",
            "  \n",
            "/usr/local/lib/python3.6/dist-packages/ipykernel_launcher.py:9: SettingWithCopyWarning: \n",
            "A value is trying to be set on a copy of a slice from a DataFrame\n",
            "\n",
            "See the caveats in the documentation: https://pandas.pydata.org/pandas-docs/stable/user_guide/indexing.html#returning-a-view-versus-a-copy\n",
            "  if __name__ == '__main__':\n",
            "/usr/local/lib/python3.6/dist-packages/ipykernel_launcher.py:10: SettingWithCopyWarning: \n",
            "A value is trying to be set on a copy of a slice from a DataFrame\n",
            "\n",
            "See the caveats in the documentation: https://pandas.pydata.org/pandas-docs/stable/user_guide/indexing.html#returning-a-view-versus-a-copy\n",
            "  # Remove the CWD from sys.path while we load stuff.\n",
            "/usr/local/lib/python3.6/dist-packages/ipykernel_launcher.py:11: SettingWithCopyWarning: \n",
            "A value is trying to be set on a copy of a slice from a DataFrame\n",
            "\n",
            "See the caveats in the documentation: https://pandas.pydata.org/pandas-docs/stable/user_guide/indexing.html#returning-a-view-versus-a-copy\n",
            "  # This is added back by InteractiveShellApp.init_path()\n",
            "/usr/local/lib/python3.6/dist-packages/ipykernel_launcher.py:12: SettingWithCopyWarning: \n",
            "A value is trying to be set on a copy of a slice from a DataFrame\n",
            "\n",
            "See the caveats in the documentation: https://pandas.pydata.org/pandas-docs/stable/user_guide/indexing.html#returning-a-view-versus-a-copy\n",
            "  if sys.path[0] == '':\n"
          ],
          "name": "stderr"
        }
      ]
    },
    {
      "cell_type": "code",
      "metadata": {
        "id": "ke8r9e4Yz87k",
        "colab_type": "code",
        "colab": {}
      },
      "source": [
        "#Dropping the variables with 99.6% missing values\n",
        "previous_application.drop(['RATE_INTEREST_PRIMARY','RATE_INTEREST_PRIVILEGED'], axis=1, inplace=True)\n",
        "previous_application.drop(['NAME_TYPE_SUITE'], axis=1, inplace=True)"
      ],
      "execution_count": null,
      "outputs": []
    },
    {
      "cell_type": "code",
      "metadata": {
        "id": "4xTUG1pnz87n",
        "colab_type": "code",
        "colab": {}
      },
      "source": [
        "k=previous_application[\"PRODUCT_COMBINATION\"].mode()\n",
        "previous_application.loc[pd.isnull(previous_application['PRODUCT_COMBINATION']),'PRODUCT_COMBINATION'] = k[0]"
      ],
      "execution_count": null,
      "outputs": []
    },
    {
      "cell_type": "code",
      "metadata": {
        "id": "2R3JI5IGz87r",
        "colab_type": "code",
        "colab": {
          "base_uri": "https://localhost:8080/",
          "height": 605
        },
        "outputId": "0fee6aed-4854-4f9f-b25b-5b96259f2640"
      },
      "source": [
        "previous_application.isnull().sum()"
      ],
      "execution_count": null,
      "outputs": [
        {
          "output_type": "execute_result",
          "data": {
            "text/plain": [
              "SK_ID_PREV                     0\n",
              "SK_ID_CURR                     0\n",
              "NAME_CONTRACT_TYPE             0\n",
              "AMT_ANNUITY                    0\n",
              "AMT_APPLICATION                0\n",
              "AMT_CREDIT                     0\n",
              "AMT_DOWN_PAYMENT               0\n",
              "AMT_GOODS_PRICE                0\n",
              "WEEKDAY_APPR_PROCESS_START     0\n",
              "HOUR_APPR_PROCESS_START        0\n",
              "FLAG_LAST_APPL_PER_CONTRACT    0\n",
              "NFLAG_LAST_APPL_IN_DAY         0\n",
              "RATE_DOWN_PAYMENT              0\n",
              "NAME_CASH_LOAN_PURPOSE         0\n",
              "NAME_CONTRACT_STATUS           0\n",
              "DAYS_DECISION                  0\n",
              "NAME_PAYMENT_TYPE              0\n",
              "CODE_REJECT_REASON             0\n",
              "NAME_CLIENT_TYPE               0\n",
              "NAME_GOODS_CATEGORY            0\n",
              "NAME_PORTFOLIO                 0\n",
              "NAME_PRODUCT_TYPE              0\n",
              "CHANNEL_TYPE                   0\n",
              "SELLERPLACE_AREA               0\n",
              "NAME_SELLER_INDUSTRY           0\n",
              "CNT_PAYMENT                    0\n",
              "NAME_YIELD_GROUP               0\n",
              "PRODUCT_COMBINATION            0\n",
              "DAYS_FIRST_DRAWING             0\n",
              "DAYS_FIRST_DUE                 0\n",
              "DAYS_LAST_DUE_1ST_VERSION      0\n",
              "DAYS_LAST_DUE                  0\n",
              "DAYS_TERMINATION               0\n",
              "NFLAG_INSURED_ON_APPROVAL      0\n",
              "dtype: int64"
            ]
          },
          "metadata": {
            "tags": []
          },
          "execution_count": 118
        }
      ]
    },
    {
      "cell_type": "markdown",
      "metadata": {
        "id": "ZGDfajBVz87v",
        "colab_type": "text"
      },
      "source": [
        "### 6.Application Train"
      ]
    },
    {
      "cell_type": "code",
      "metadata": {
        "id": "yYzvkdMLz87v",
        "colab_type": "code",
        "colab": {
          "base_uri": "https://localhost:8080/",
          "height": 218
        },
        "outputId": "3020bd81-5f70-4e8d-a206-78a7c2064bda"
      },
      "source": [
        "np.sum(pd.isnull(train))"
      ],
      "execution_count": null,
      "outputs": [
        {
          "output_type": "execute_result",
          "data": {
            "text/plain": [
              "SK_ID_CURR                 0\n",
              "TARGET                     0\n",
              "NAME_CONTRACT_TYPE         0\n",
              "CODE_GENDER                0\n",
              "FLAG_OWN_CAR               0\n",
              "                          ..\n",
              "INCOME_GT_CREDIT_FLAG      0\n",
              "CREDIT_INCOME_PERCENT      0\n",
              "ANNUITY_INCOME_PERCENT    12\n",
              "CREDIT_TERM               12\n",
              "DAYS_EMPLOYED_PERCENT      0\n",
              "Length: 127, dtype: int64"
            ]
          },
          "metadata": {
            "tags": []
          },
          "execution_count": 119
        }
      ]
    },
    {
      "cell_type": "markdown",
      "metadata": {
        "id": "mNoQi8ckFzZM",
        "colab_type": "text"
      },
      "source": [
        ""
      ]
    },
    {
      "cell_type": "code",
      "metadata": {
        "id": "QEPxfjHvz87z",
        "colab_type": "code",
        "colab": {}
      },
      "source": [
        "train[\"AMT_ANNUITY\"].fillna(train[\"AMT_ANNUITY\"].median(),inplace=True)\n",
        "\n",
        "train[\"AMT_GOODS_PRICE\"].fillna(train[\"AMT_GOODS_PRICE\"].median(),inplace=True)\n",
        "\n",
        "train[\"NAME_TYPE_SUITE\"].fillna(train[\"NAME_TYPE_SUITE\"].mode()[0],inplace=True)\n",
        "\n",
        "train.loc[(train[\"FLAG_OWN_CAR\"]=='Y') & (pd.isnull(train[\"OWN_CAR_AGE\"])),\"OWN_CAR_AGE\" ]=train[\"OWN_CAR_AGE\"].median()\n",
        "\n",
        "train.loc[(train[\"FLAG_OWN_CAR\"]=='N') & (pd.isnull(train[\"OWN_CAR_AGE\"])),\"OWN_CAR_AGE\" ]=0.0\n",
        "\n",
        "\n",
        "all_cols=train.columns\n",
        "num_cols=train._get_numeric_data().columns\n",
        "categoriacal_cols=list(set(all_cols)-set(num_cols))\n",
        "categoriacal_cols\n",
        "\n",
        "\n",
        "\n",
        "nulls = train.isnull().sum()\n",
        "percent_nulls = (nulls/train.isnull().count())*100\n",
        "missing_values  = pd.concat([nulls, percent_nulls], axis=1, keys=['Total', 'Percent'])\n",
        "missing_values\n",
        "# Vignesh\n",
        "\n",
        "\n",
        "#Imputing the AMT_REQ columns with median\n",
        "amt_req = ['AMT_REQ_CREDIT_BUREAU_HOUR','AMT_REQ_CREDIT_BUREAU_DAY','AMT_REQ_CREDIT_BUREAU_WEEK','AMT_REQ_CREDIT_BUREAU_MON','AMT_REQ_CREDIT_BUREAU_QRT','AMT_REQ_CREDIT_BUREAU_YEAR']\n",
        "for i in amt_req:\n",
        "    train.loc[pd.isnull(train[i]),i] = train[i].median()\n",
        "\n",
        "\n",
        "#Imputing the OBS_DEF columns with median\n",
        "obs_def = ['OBS_30_CNT_SOCIAL_CIRCLE','DEF_30_CNT_SOCIAL_CIRCLE','OBS_60_CNT_SOCIAL_CIRCLE','DEF_60_CNT_SOCIAL_CIRCLE']\n",
        "for i in obs_def:\n",
        "    train.loc[pd.isnull(train[i]),i] = train[i].median()\n",
        "\n",
        "\n",
        "\n",
        "train.loc[pd.isnull(train['DAYS_LAST_PHONE_CHANGE']),'DAYS_LAST_PHONE_CHANGE'] = train['DAYS_LAST_PHONE_CHANGE'].median()\n",
        "\n",
        "train.loc[pd.isnull(train['EXT_SOURCE_2']),'EXT_SOURCE_2'] = train['EXT_SOURCE_2'].median()\n",
        "train.loc[pd.isnull(train['EXT_SOURCE_3']),'EXT_SOURCE_3'] = train['EXT_SOURCE_3'].median()\n",
        "train.loc[pd.isnull(train['CNT_FAM_MEMBERS']),'CNT_FAM_MEMBERS'] = train['CNT_FAM_MEMBERS'].median()"
      ],
      "execution_count": null,
      "outputs": []
    },
    {
      "cell_type": "code",
      "metadata": {
        "id": "7AG-9pFaz873",
        "colab_type": "code",
        "colab": {}
      },
      "source": [
        "\n",
        "\n",
        "\n",
        "lst = train.columns\n",
        "housing_columns = lst[44:91]\n",
        "\n",
        "\n",
        "for i in range(0,42):\n",
        "    train[housing_columns[i]].fillna(0,inplace=True)\n",
        "train[housing_columns[44]].fillna(0,inplace=True)\n",
        "\n",
        "\n",
        "train.drop([\"WALLSMATERIAL_MODE\"],axis=1,inplace = True)\n",
        "\n",
        "train.drop([\"HOUSETYPE_MODE\"],axis=1,inplace = True)\n",
        "\n",
        "train.drop([\"FONDKAPREMONT_MODE\"],axis=1,inplace = True)\n",
        "train.drop([\"EXT_SOURCE_1\"],axis=1,inplace = True)\n",
        "# Need to re consider this columns\n",
        "\n",
        "\n",
        "train.drop([\"OCCUPATION_TYPE\"],axis=1,inplace = True)\n",
        "train.drop([\"EMERGENCYSTATE_MODE\"],axis=1,inplace = True)"
      ],
      "execution_count": null,
      "outputs": []
    },
    {
      "cell_type": "code",
      "metadata": {
        "id": "tmyZRGMB-CGg",
        "colab_type": "code",
        "colab": {}
      },
      "source": [
        "#train['EMERGENCYSTATE_MODE'].fillna(train['EMERGENCYSTATE_MODE'].mode(),inplace = True)\n",
        "#train['WALLSMATERIAL_MODE'].fillna(train['WALLSMATERIAL_MODE'].mode(),inplace = True)\n",
        "#train['HOUSETYPE_MODE'].fillna(train['HOUSETYPE_MODE'].mode(),inplace = True)\n",
        "#train['FONDKAPREMONT_MODE'].fillna(train['FONDKAPREMONT_MODE'].mode(),inplace = True)\n"
      ],
      "execution_count": null,
      "outputs": []
    },
    {
      "cell_type": "code",
      "metadata": {
        "id": "Nqe1ZWnSz876",
        "colab_type": "code",
        "colab": {
          "base_uri": "https://localhost:8080/",
          "height": 337
        },
        "outputId": "759813b5-96a6-487e-c083-55a06ff79f8b"
      },
      "source": [
        "train=reduce_mem_usage(train)"
      ],
      "execution_count": null,
      "outputs": [
        {
          "output_type": "stream",
          "text": [
            "Memory usage of dataframe is 63.64 MB\n"
          ],
          "name": "stdout"
        },
        {
          "output_type": "error",
          "ename": "TypeError",
          "evalue": "ignored",
          "traceback": [
            "\u001b[0;31m---------------------------------------------------------------------------\u001b[0m",
            "\u001b[0;31mTypeError\u001b[0m                                 Traceback (most recent call last)",
            "\u001b[0;32m<ipython-input-83-8cd835c10dd3>\u001b[0m in \u001b[0;36m<module>\u001b[0;34m()\u001b[0m\n\u001b[0;32m----> 1\u001b[0;31m \u001b[0mtrain\u001b[0m\u001b[0;34m=\u001b[0m\u001b[0mreduce_mem_usage\u001b[0m\u001b[0;34m(\u001b[0m\u001b[0mtrain\u001b[0m\u001b[0;34m)\u001b[0m\u001b[0;34m\u001b[0m\u001b[0;34m\u001b[0m\u001b[0m\n\u001b[0m",
            "\u001b[0;32m<ipython-input-45-ae1d4d616edb>\u001b[0m in \u001b[0;36mreduce_mem_usage\u001b[0;34m(df)\u001b[0m\n\u001b[1;32m     17\u001b[0m \u001b[0;34m\u001b[0m\u001b[0m\n\u001b[1;32m     18\u001b[0m         \u001b[0;32mif\u001b[0m \u001b[0mcol_type\u001b[0m \u001b[0;34m!=\u001b[0m \u001b[0mobject\u001b[0m\u001b[0;34m:\u001b[0m\u001b[0;34m\u001b[0m\u001b[0;34m\u001b[0m\u001b[0m\n\u001b[0;32m---> 19\u001b[0;31m             \u001b[0mc_min\u001b[0m \u001b[0;34m=\u001b[0m \u001b[0mdf\u001b[0m\u001b[0;34m[\u001b[0m\u001b[0mcol\u001b[0m\u001b[0;34m]\u001b[0m\u001b[0;34m.\u001b[0m\u001b[0mmin\u001b[0m\u001b[0;34m(\u001b[0m\u001b[0;34m)\u001b[0m\u001b[0;34m\u001b[0m\u001b[0;34m\u001b[0m\u001b[0m\n\u001b[0m\u001b[1;32m     20\u001b[0m             \u001b[0mc_max\u001b[0m \u001b[0;34m=\u001b[0m \u001b[0mdf\u001b[0m\u001b[0;34m[\u001b[0m\u001b[0mcol\u001b[0m\u001b[0;34m]\u001b[0m\u001b[0;34m.\u001b[0m\u001b[0mmax\u001b[0m\u001b[0;34m(\u001b[0m\u001b[0;34m)\u001b[0m\u001b[0;34m\u001b[0m\u001b[0;34m\u001b[0m\u001b[0m\n\u001b[1;32m     21\u001b[0m             \u001b[0;32mif\u001b[0m \u001b[0mstr\u001b[0m\u001b[0;34m(\u001b[0m\u001b[0mcol_type\u001b[0m\u001b[0;34m)\u001b[0m\u001b[0;34m[\u001b[0m\u001b[0;34m:\u001b[0m\u001b[0;36m3\u001b[0m\u001b[0;34m]\u001b[0m \u001b[0;34m==\u001b[0m \u001b[0;34m'int'\u001b[0m\u001b[0;34m:\u001b[0m\u001b[0;34m\u001b[0m\u001b[0;34m\u001b[0m\u001b[0m\n",
            "\u001b[0;32m/usr/local/lib/python3.6/dist-packages/pandas/core/generic.py\u001b[0m in \u001b[0;36mstat_func\u001b[0;34m(self, axis, skipna, level, numeric_only, **kwargs)\u001b[0m\n\u001b[1;32m  11213\u001b[0m             \u001b[0;32mreturn\u001b[0m \u001b[0mself\u001b[0m\u001b[0;34m.\u001b[0m\u001b[0m_agg_by_level\u001b[0m\u001b[0;34m(\u001b[0m\u001b[0mname\u001b[0m\u001b[0;34m,\u001b[0m \u001b[0maxis\u001b[0m\u001b[0;34m=\u001b[0m\u001b[0maxis\u001b[0m\u001b[0;34m,\u001b[0m \u001b[0mlevel\u001b[0m\u001b[0;34m=\u001b[0m\u001b[0mlevel\u001b[0m\u001b[0;34m,\u001b[0m \u001b[0mskipna\u001b[0m\u001b[0;34m=\u001b[0m\u001b[0mskipna\u001b[0m\u001b[0;34m)\u001b[0m\u001b[0;34m\u001b[0m\u001b[0;34m\u001b[0m\u001b[0m\n\u001b[1;32m  11214\u001b[0m         return self._reduce(\n\u001b[0;32m> 11215\u001b[0;31m             \u001b[0mf\u001b[0m\u001b[0;34m,\u001b[0m \u001b[0mname\u001b[0m\u001b[0;34m,\u001b[0m \u001b[0maxis\u001b[0m\u001b[0;34m=\u001b[0m\u001b[0maxis\u001b[0m\u001b[0;34m,\u001b[0m \u001b[0mskipna\u001b[0m\u001b[0;34m=\u001b[0m\u001b[0mskipna\u001b[0m\u001b[0;34m,\u001b[0m \u001b[0mnumeric_only\u001b[0m\u001b[0;34m=\u001b[0m\u001b[0mnumeric_only\u001b[0m\u001b[0;34m\u001b[0m\u001b[0;34m\u001b[0m\u001b[0m\n\u001b[0m\u001b[1;32m  11216\u001b[0m         )\n\u001b[1;32m  11217\u001b[0m \u001b[0;34m\u001b[0m\u001b[0m\n",
            "\u001b[0;32m/usr/local/lib/python3.6/dist-packages/pandas/core/series.py\u001b[0m in \u001b[0;36m_reduce\u001b[0;34m(self, op, name, axis, skipna, numeric_only, filter_type, **kwds)\u001b[0m\n\u001b[1;32m   3870\u001b[0m \u001b[0;34m\u001b[0m\u001b[0m\n\u001b[1;32m   3871\u001b[0m         \u001b[0;32mif\u001b[0m \u001b[0misinstance\u001b[0m\u001b[0;34m(\u001b[0m\u001b[0mdelegate\u001b[0m\u001b[0;34m,\u001b[0m \u001b[0mCategorical\u001b[0m\u001b[0;34m)\u001b[0m\u001b[0;34m:\u001b[0m\u001b[0;34m\u001b[0m\u001b[0;34m\u001b[0m\u001b[0m\n\u001b[0;32m-> 3872\u001b[0;31m             \u001b[0;32mreturn\u001b[0m \u001b[0mdelegate\u001b[0m\u001b[0;34m.\u001b[0m\u001b[0m_reduce\u001b[0m\u001b[0;34m(\u001b[0m\u001b[0mname\u001b[0m\u001b[0;34m,\u001b[0m \u001b[0mskipna\u001b[0m\u001b[0;34m=\u001b[0m\u001b[0mskipna\u001b[0m\u001b[0;34m,\u001b[0m \u001b[0;34m**\u001b[0m\u001b[0mkwds\u001b[0m\u001b[0;34m)\u001b[0m\u001b[0;34m\u001b[0m\u001b[0;34m\u001b[0m\u001b[0m\n\u001b[0m\u001b[1;32m   3873\u001b[0m         \u001b[0;32melif\u001b[0m \u001b[0misinstance\u001b[0m\u001b[0;34m(\u001b[0m\u001b[0mdelegate\u001b[0m\u001b[0;34m,\u001b[0m \u001b[0mExtensionArray\u001b[0m\u001b[0;34m)\u001b[0m\u001b[0;34m:\u001b[0m\u001b[0;34m\u001b[0m\u001b[0;34m\u001b[0m\u001b[0m\n\u001b[1;32m   3874\u001b[0m             \u001b[0;31m# dispatch to ExtensionArray interface\u001b[0m\u001b[0;34m\u001b[0m\u001b[0;34m\u001b[0m\u001b[0;34m\u001b[0m\u001b[0m\n",
            "\u001b[0;32m/usr/local/lib/python3.6/dist-packages/pandas/core/arrays/categorical.py\u001b[0m in \u001b[0;36m_reduce\u001b[0;34m(self, name, axis, **kwargs)\u001b[0m\n\u001b[1;32m   2123\u001b[0m         \u001b[0;32mif\u001b[0m \u001b[0mfunc\u001b[0m \u001b[0;32mis\u001b[0m \u001b[0;32mNone\u001b[0m\u001b[0;34m:\u001b[0m\u001b[0;34m\u001b[0m\u001b[0;34m\u001b[0m\u001b[0m\n\u001b[1;32m   2124\u001b[0m             \u001b[0;32mraise\u001b[0m \u001b[0mTypeError\u001b[0m\u001b[0;34m(\u001b[0m\u001b[0;34mf\"Categorical cannot perform the operation {name}\"\u001b[0m\u001b[0;34m)\u001b[0m\u001b[0;34m\u001b[0m\u001b[0;34m\u001b[0m\u001b[0m\n\u001b[0;32m-> 2125\u001b[0;31m         \u001b[0;32mreturn\u001b[0m \u001b[0mfunc\u001b[0m\u001b[0;34m(\u001b[0m\u001b[0;34m**\u001b[0m\u001b[0mkwargs\u001b[0m\u001b[0;34m)\u001b[0m\u001b[0;34m\u001b[0m\u001b[0;34m\u001b[0m\u001b[0m\n\u001b[0m\u001b[1;32m   2126\u001b[0m \u001b[0;34m\u001b[0m\u001b[0m\n\u001b[1;32m   2127\u001b[0m     \u001b[0;34m@\u001b[0m\u001b[0mdeprecate_kwarg\u001b[0m\u001b[0;34m(\u001b[0m\u001b[0mold_arg_name\u001b[0m\u001b[0;34m=\u001b[0m\u001b[0;34m\"numeric_only\"\u001b[0m\u001b[0;34m,\u001b[0m \u001b[0mnew_arg_name\u001b[0m\u001b[0;34m=\u001b[0m\u001b[0;34m\"skipna\"\u001b[0m\u001b[0;34m)\u001b[0m\u001b[0;34m\u001b[0m\u001b[0;34m\u001b[0m\u001b[0m\n",
            "\u001b[0;32m/usr/local/lib/python3.6/dist-packages/pandas/util/_decorators.py\u001b[0m in \u001b[0;36mwrapper\u001b[0;34m(*args, **kwargs)\u001b[0m\n\u001b[1;32m    212\u001b[0m                 \u001b[0;32melse\u001b[0m\u001b[0;34m:\u001b[0m\u001b[0;34m\u001b[0m\u001b[0;34m\u001b[0m\u001b[0m\n\u001b[1;32m    213\u001b[0m                     \u001b[0mkwargs\u001b[0m\u001b[0;34m[\u001b[0m\u001b[0mnew_arg_name\u001b[0m\u001b[0;34m]\u001b[0m \u001b[0;34m=\u001b[0m \u001b[0mnew_arg_value\u001b[0m\u001b[0;34m\u001b[0m\u001b[0;34m\u001b[0m\u001b[0m\n\u001b[0;32m--> 214\u001b[0;31m             \u001b[0;32mreturn\u001b[0m \u001b[0mfunc\u001b[0m\u001b[0;34m(\u001b[0m\u001b[0;34m*\u001b[0m\u001b[0margs\u001b[0m\u001b[0;34m,\u001b[0m \u001b[0;34m**\u001b[0m\u001b[0mkwargs\u001b[0m\u001b[0;34m)\u001b[0m\u001b[0;34m\u001b[0m\u001b[0;34m\u001b[0m\u001b[0m\n\u001b[0m\u001b[1;32m    215\u001b[0m \u001b[0;34m\u001b[0m\u001b[0m\n\u001b[1;32m    216\u001b[0m         \u001b[0;32mreturn\u001b[0m \u001b[0mcast\u001b[0m\u001b[0;34m(\u001b[0m\u001b[0mF\u001b[0m\u001b[0;34m,\u001b[0m \u001b[0mwrapper\u001b[0m\u001b[0;34m)\u001b[0m\u001b[0;34m\u001b[0m\u001b[0;34m\u001b[0m\u001b[0m\n",
            "\u001b[0;32m/usr/local/lib/python3.6/dist-packages/pandas/core/arrays/categorical.py\u001b[0m in \u001b[0;36mmin\u001b[0;34m(self, skipna, **kwargs)\u001b[0m\n\u001b[1;32m   2146\u001b[0m         \"\"\"\n\u001b[1;32m   2147\u001b[0m         \u001b[0mnv\u001b[0m\u001b[0;34m.\u001b[0m\u001b[0mvalidate_min\u001b[0m\u001b[0;34m(\u001b[0m\u001b[0;34m(\u001b[0m\u001b[0;34m)\u001b[0m\u001b[0;34m,\u001b[0m \u001b[0mkwargs\u001b[0m\u001b[0;34m)\u001b[0m\u001b[0;34m\u001b[0m\u001b[0;34m\u001b[0m\u001b[0m\n\u001b[0;32m-> 2148\u001b[0;31m         \u001b[0mself\u001b[0m\u001b[0;34m.\u001b[0m\u001b[0mcheck_for_ordered\u001b[0m\u001b[0;34m(\u001b[0m\u001b[0;34m\"min\"\u001b[0m\u001b[0;34m)\u001b[0m\u001b[0;34m\u001b[0m\u001b[0;34m\u001b[0m\u001b[0m\n\u001b[0m\u001b[1;32m   2149\u001b[0m \u001b[0;34m\u001b[0m\u001b[0m\n\u001b[1;32m   2150\u001b[0m         \u001b[0;32mif\u001b[0m \u001b[0;32mnot\u001b[0m \u001b[0mlen\u001b[0m\u001b[0;34m(\u001b[0m\u001b[0mself\u001b[0m\u001b[0;34m.\u001b[0m\u001b[0m_codes\u001b[0m\u001b[0;34m)\u001b[0m\u001b[0;34m:\u001b[0m\u001b[0;34m\u001b[0m\u001b[0;34m\u001b[0m\u001b[0m\n",
            "\u001b[0;32m/usr/local/lib/python3.6/dist-packages/pandas/core/arrays/categorical.py\u001b[0m in \u001b[0;36mcheck_for_ordered\u001b[0;34m(self, op)\u001b[0m\n\u001b[1;32m   1492\u001b[0m         \u001b[0;32mif\u001b[0m \u001b[0;32mnot\u001b[0m \u001b[0mself\u001b[0m\u001b[0;34m.\u001b[0m\u001b[0mordered\u001b[0m\u001b[0;34m:\u001b[0m\u001b[0;34m\u001b[0m\u001b[0;34m\u001b[0m\u001b[0m\n\u001b[1;32m   1493\u001b[0m             raise TypeError(\n\u001b[0;32m-> 1494\u001b[0;31m                 \u001b[0;34mf\"Categorical is not ordered for operation {op}\\n\"\u001b[0m\u001b[0;34m\u001b[0m\u001b[0;34m\u001b[0m\u001b[0m\n\u001b[0m\u001b[1;32m   1495\u001b[0m                 \u001b[0;34m\"you can use .as_ordered() to change the \"\u001b[0m\u001b[0;34m\u001b[0m\u001b[0;34m\u001b[0m\u001b[0m\n\u001b[1;32m   1496\u001b[0m                 \u001b[0;34m\"Categorical to an ordered one\\n\"\u001b[0m\u001b[0;34m\u001b[0m\u001b[0;34m\u001b[0m\u001b[0m\n",
            "\u001b[0;31mTypeError\u001b[0m: Categorical is not ordered for operation min\nyou can use .as_ordered() to change the Categorical to an ordered one\n"
          ]
        }
      ]
    },
    {
      "cell_type": "markdown",
      "metadata": {
        "id": "LBbOGkg9z87-",
        "colab_type": "text"
      },
      "source": [
        "### 7.Application Test"
      ]
    },
    {
      "cell_type": "code",
      "metadata": {
        "id": "txtNSQn-z87_",
        "colab_type": "code",
        "colab": {}
      },
      "source": [
        "test[\"AMT_ANNUITY\"].fillna(test[\"AMT_ANNUITY\"].median(),inplace=True)\n",
        "\n",
        "test[\"AMT_GOODS_PRICE\"].fillna(test[\"AMT_GOODS_PRICE\"].median(),inplace=True)\n",
        "\n",
        "test[\"NAME_TYPE_SUITE\"].fillna(test[\"NAME_TYPE_SUITE\"].mode()[0],inplace=True)\n",
        "\n",
        "test.loc[(test[\"FLAG_OWN_CAR\"]=='Y') & (pd.isnull(test[\"OWN_CAR_AGE\"])),\"OWN_CAR_AGE\" ]=test[\"OWN_CAR_AGE\"].median()\n",
        "\n",
        "test.loc[(test[\"FLAG_OWN_CAR\"]=='N') & (pd.isnull(test[\"OWN_CAR_AGE\"])),\"OWN_CAR_AGE\" ]=0.0\n",
        "\n",
        "\n",
        "all_cols=test.columns\n",
        "num_cols=test._get_numeric_data().columns\n",
        "categoriacal_cols=list(set(all_cols)-set(num_cols))\n",
        "categoriacal_cols\n",
        "\n",
        "\n",
        "\n",
        "nulls = test.isnull().sum()\n",
        "percent_nulls = (nulls/test.isnull().count())*100\n",
        "missing_values  = pd.concat([nulls, percent_nulls], axis=1, keys=['Total', 'Percent'])\n",
        "missing_values\n",
        "\n",
        "\n",
        "\n",
        "#Imputing the AMT_REQ columns with median\n",
        "amt_req = ['AMT_REQ_CREDIT_BUREAU_HOUR','AMT_REQ_CREDIT_BUREAU_DAY','AMT_REQ_CREDIT_BUREAU_WEEK','AMT_REQ_CREDIT_BUREAU_MON','AMT_REQ_CREDIT_BUREAU_QRT','AMT_REQ_CREDIT_BUREAU_YEAR']\n",
        "for i in amt_req:\n",
        "    test.loc[pd.isnull(test[i]),i] = test[i].median()\n",
        "\n",
        "\n",
        "#Imputing the OBS_DEF columns with median\n",
        "obs_def = ['OBS_30_CNT_SOCIAL_CIRCLE','DEF_30_CNT_SOCIAL_CIRCLE','OBS_60_CNT_SOCIAL_CIRCLE','DEF_60_CNT_SOCIAL_CIRCLE']\n",
        "for i in obs_def:\n",
        "    test.loc[pd.isnull(test[i]),i] = test[i].median()\n",
        "\n",
        "\n",
        "\n",
        "test.loc[pd.isnull(test['DAYS_LAST_PHONE_CHANGE']),'DAYS_LAST_PHONE_CHANGE'] = test['DAYS_LAST_PHONE_CHANGE'].median()\n",
        "\n",
        "test.loc[pd.isnull(test['EXT_SOURCE_2']),'EXT_SOURCE_2'] = test['EXT_SOURCE_2'].median()\n",
        "test.loc[pd.isnull(test['EXT_SOURCE_3']),'EXT_SOURCE_3'] = test['EXT_SOURCE_3'].median()\n",
        "test.loc[pd.isnull(test['CNT_FAM_MEMBERS']),'CNT_FAM_MEMBERS'] = test['CNT_FAM_MEMBERS'].median()"
      ],
      "execution_count": null,
      "outputs": []
    },
    {
      "cell_type": "code",
      "metadata": {
        "id": "WKAd-vsZz88C",
        "colab_type": "code",
        "colab": {}
      },
      "source": [
        "test.drop([\"WALLSMATERIAL_MODE\"],axis=1,inplace = True)\n",
        "\n",
        "test.drop([\"HOUSETYPE_MODE\"],axis=1,inplace = True)\n",
        "\n",
        "test.drop([\"FONDKAPREMONT_MODE\"],axis=1,inplace = True)\n",
        "test.drop([\"EXT_SOURCE_1\"],axis=1,inplace = True)\n",
        "# Need to re consider this columns\n",
        "\n",
        "\n",
        "test.drop([\"OCCUPATION_TYPE\"],axis=1,inplace = True)\n",
        "test.drop([\"EMERGENCYSTATE_MODE\"],axis=1,inplace = True)\n",
        "\n",
        "lst = test.columns\n",
        "housing_columns = lst[44:91]\n",
        "\n",
        "for i in range(len(housing_columns)):\n",
        "    test[housing_columns[i]].fillna(0,inplace=True)\n",
        "\n",
        "\n"
      ],
      "execution_count": null,
      "outputs": []
    },
    {
      "cell_type": "code",
      "metadata": {
        "id": "D68PhrmHz88G",
        "colab_type": "code",
        "colab": {}
      },
      "source": [
        "test=reduce_mem_usage(test)"
      ],
      "execution_count": null,
      "outputs": []
    },
    {
      "cell_type": "markdown",
      "metadata": {
        "id": "ayLu__q-z88P",
        "colab_type": "text"
      },
      "source": [
        " "
      ]
    },
    {
      "cell_type": "markdown",
      "metadata": {
        "id": "TDY_5u-0z88R",
        "colab_type": "text"
      },
      "source": [
        " "
      ]
    },
    {
      "cell_type": "markdown",
      "metadata": {
        "id": "kJ3PFTMnz88S",
        "colab_type": "text"
      },
      "source": [
        "[link text](https://) "
      ]
    },
    {
      "cell_type": "markdown",
      "metadata": {
        "id": "YuQjiYvez88T",
        "colab_type": "text"
      },
      "source": [
        "### Data Prepration"
      ]
    },
    {
      "cell_type": "markdown",
      "metadata": {
        "id": "Xb4F7MOSz88U",
        "colab_type": "text"
      },
      "source": [
        "### Joining all the files "
      ]
    },
    {
      "cell_type": "code",
      "metadata": {
        "id": "0J5BDSKyz88V",
        "colab_type": "code",
        "colab": {}
      },
      "source": [
        "train = pd.get_dummies(train)\n",
        "test = pd.get_dummies(test)"
      ],
      "execution_count": null,
      "outputs": []
    },
    {
      "cell_type": "code",
      "metadata": {
        "id": "XTHxqs50z88e",
        "colab_type": "code",
        "colab": {
          "base_uri": "https://localhost:8080/",
          "height": 34
        },
        "outputId": "dac984db-ea16-4262-8cf9-bf030f24382f"
      },
      "source": [
        "train.shape"
      ],
      "execution_count": null,
      "outputs": [
        {
          "output_type": "execute_result",
          "data": {
            "text/plain": [
              "(307511, 216)"
            ]
          },
          "metadata": {
            "tags": []
          },
          "execution_count": 125
        }
      ]
    },
    {
      "cell_type": "markdown",
      "metadata": {
        "id": "TwtbBJiHKITT",
        "colab_type": "text"
      },
      "source": [
        ""
      ]
    },
    {
      "cell_type": "code",
      "metadata": {
        "id": "rbPgyr9l_auJ",
        "colab_type": "code",
        "colab": {}
      },
      "source": [
        "test['INCOME_GT_CREDIT_FLAG'] = test['AMT_INCOME_TOTAL'] > test['AMT_CREDIT']\n",
        "# Column to represent Credit Income Percent\n",
        "test['CREDIT_INCOME_PERCENT'] = test['AMT_CREDIT'] / test['AMT_INCOME_TOTAL']\n",
        "# Column to represent Annuity Income percent\n",
        "test['ANNUITY_INCOME_PERCENT'] = test['AMT_ANNUITY'] / test['AMT_INCOME_TOTAL']\n",
        "# Column to represent Credit Term\n",
        "test['CREDIT_TERM'] = test['AMT_CREDIT'] / test['AMT_ANNUITY'] \n",
        "# Column to represent Days Employed percent in his life\n",
        "test['DAYS_EMPLOYED_PERCENT'] = test['DAYS_EMPLOYED'] / test['DAYS_BIRTH']\n",
        "# Shape of Application data"
      ],
      "execution_count": null,
      "outputs": []
    },
    {
      "cell_type": "code",
      "metadata": {
        "id": "LAnBq2SG_Eql",
        "colab_type": "code",
        "colab": {}
      },
      "source": [
        "set(train.columns) - set(test.columns)"
      ],
      "execution_count": null,
      "outputs": []
    },
    {
      "cell_type": "code",
      "metadata": {
        "id": "tcnY3CW1z88j",
        "colab_type": "code",
        "colab": {}
      },
      "source": [
        "test.shape"
      ],
      "execution_count": null,
      "outputs": []
    },
    {
      "cell_type": "markdown",
      "metadata": {
        "id": "PBPOB3dtz88u",
        "colab_type": "text"
      },
      "source": [
        " "
      ]
    },
    {
      "cell_type": "markdown",
      "metadata": {
        "id": "Kd4WLaQ5z88v",
        "colab_type": "text"
      },
      "source": [
        " "
      ]
    },
    {
      "cell_type": "markdown",
      "metadata": {
        "id": "QksZFDR2z88v",
        "colab_type": "text"
      },
      "source": [
        " "
      ]
    },
    {
      "cell_type": "code",
      "metadata": {
        "id": "Hzmhc7zzz88w",
        "colab_type": "code",
        "colab": {}
      },
      "source": [
        "train_labels = train['TARGET']"
      ],
      "execution_count": null,
      "outputs": []
    },
    {
      "cell_type": "code",
      "metadata": {
        "id": "_isIK0Uyz880",
        "colab_type": "code",
        "colab": {}
      },
      "source": [
        "train, test = train.align(test, join = 'inner', axis = 1)"
      ],
      "execution_count": null,
      "outputs": []
    },
    {
      "cell_type": "markdown",
      "metadata": {
        "id": "uJqEpC5Oz885",
        "colab_type": "text"
      },
      "source": [
        "#### Merging train and test datasets"
      ]
    },
    {
      "cell_type": "code",
      "metadata": {
        "id": "PcXpZx18z886",
        "colab_type": "code",
        "colab": {}
      },
      "source": [
        "data = train.append(test)"
      ],
      "execution_count": null,
      "outputs": []
    },
    {
      "cell_type": "code",
      "metadata": {
        "id": "U9sBBy7yz88_",
        "colab_type": "code",
        "colab": {}
      },
      "source": [
        "data = data.merge(previous_loan_counts, on = 'SK_ID_CURR', how = 'left')"
      ],
      "execution_count": null,
      "outputs": []
    },
    {
      "cell_type": "code",
      "metadata": {
        "id": "Hf78PeAaz89F",
        "colab_type": "code",
        "colab": {}
      },
      "source": [
        "# first define the formula for grouping rows by ID and calculating mean values\n",
        "def extract_mean(x):\n",
        "    y = x.groupby('SK_ID_BUREAU', as_index=False).mean().add_prefix('BUR_BAL_MEAN_') \n",
        "    return y"
      ],
      "execution_count": null,
      "outputs": []
    },
    {
      "cell_type": "markdown",
      "metadata": {
        "id": "lNp-hEDzz89J",
        "colab_type": "text"
      },
      "source": [
        "#### Merging Bureau balance to the above merge"
      ]
    },
    {
      "cell_type": "code",
      "metadata": {
        "id": "xHUJB-FLz89J",
        "colab_type": "code",
        "colab": {}
      },
      "source": [
        "bureau_bal_mean = extract_mean(bureau_balance)"
      ],
      "execution_count": null,
      "outputs": []
    },
    {
      "cell_type": "code",
      "metadata": {
        "id": "i7KuUnKzz89T",
        "colab_type": "code",
        "colab": {}
      },
      "source": [
        "bureau_bal_mean = bureau_bal_mean.rename(columns = {'BUR_BAL_MEAN_SK_ID_BUREAU' : 'SK_ID_BUREAU'})"
      ],
      "execution_count": null,
      "outputs": []
    },
    {
      "cell_type": "code",
      "metadata": {
        "id": "PcorCTuDz89W",
        "colab_type": "code",
        "colab": {}
      },
      "source": [
        "bureau = bureau.merge(bureau_bal_mean, on = 'SK_ID_BUREAU', how = 'left')\n",
        "bureau.drop('SK_ID_BUREAU', axis = 1, inplace = True)\n"
      ],
      "execution_count": null,
      "outputs": []
    },
    {
      "cell_type": "code",
      "metadata": {
        "id": "3Km8A-zWz89e",
        "colab_type": "code",
        "colab": {}
      },
      "source": [
        "def extract_mean(x):\n",
        "    y = x.groupby('SK_ID_CURR', as_index=False).mean().add_prefix('PREV_BUR_MEAN_') # note that we have changed the ID to group by and the prefix to add\n",
        "    return y"
      ],
      "execution_count": null,
      "outputs": []
    },
    {
      "cell_type": "code",
      "metadata": {
        "id": "cjF13pR_z89j",
        "colab_type": "code",
        "colab": {}
      },
      "source": [
        "bureau_mean_values = extract_mean(bureau)\n",
        "bureau_mean_values = bureau_mean_values.rename(columns = {'PREV_BUR_MEAN_SK_ID_CURR' : 'SK_ID_CURR'})"
      ],
      "execution_count": null,
      "outputs": []
    },
    {
      "cell_type": "code",
      "metadata": {
        "id": "y-Et4qGGz89s",
        "colab_type": "code",
        "colab": {}
      },
      "source": [
        "data = data.merge(bureau_mean_values, on = 'SK_ID_CURR', how = 'left')"
      ],
      "execution_count": null,
      "outputs": []
    },
    {
      "cell_type": "code",
      "metadata": {
        "id": "8C4-eGY6z89v",
        "colab_type": "code",
        "colab": {
          "base_uri": "https://localhost:8080/",
          "height": 34
        },
        "outputId": "3bc708ca-059e-46eb-dc4c-9e529479ce5d"
      },
      "source": [
        "data.shape"
      ],
      "execution_count": null,
      "outputs": [
        {
          "output_type": "execute_result",
          "data": {
            "text/plain": [
              "(356255, 223)"
            ]
          },
          "metadata": {
            "tags": []
          },
          "execution_count": 138
        }
      ]
    },
    {
      "cell_type": "code",
      "metadata": {
        "id": "h5TleVZPz89z",
        "colab_type": "code",
        "colab": {}
      },
      "source": [
        "credit_card_balance.drop('SK_ID_CURR', axis = 1, inplace = True)\n",
        "installments_payments.drop('SK_ID_CURR', axis = 1, inplace = True)\n",
        "POS_CASH_balance.drop('SK_ID_CURR', axis = 1, inplace = True)"
      ],
      "execution_count": null,
      "outputs": []
    },
    {
      "cell_type": "code",
      "metadata": {
        "id": "OGfRXZT1z894",
        "colab_type": "code",
        "colab": {
          "base_uri": "https://localhost:8080/",
          "height": 195
        },
        "outputId": "ce244dfc-f91e-4413-f76e-972b2bbba9d5"
      },
      "source": [
        "previous_application_counts = previous_application.groupby('SK_ID_CURR', as_index=False)['SK_ID_PREV'].count().rename(columns = {'SK_ID_PREV': 'PREVIOUS_APPLICATION_COUNT'})\n",
        "previous_application_counts.head()"
      ],
      "execution_count": null,
      "outputs": [
        {
          "output_type": "execute_result",
          "data": {
            "text/html": [
              "<div>\n",
              "<style scoped>\n",
              "    .dataframe tbody tr th:only-of-type {\n",
              "        vertical-align: middle;\n",
              "    }\n",
              "\n",
              "    .dataframe tbody tr th {\n",
              "        vertical-align: top;\n",
              "    }\n",
              "\n",
              "    .dataframe thead th {\n",
              "        text-align: right;\n",
              "    }\n",
              "</style>\n",
              "<table border=\"1\" class=\"dataframe\">\n",
              "  <thead>\n",
              "    <tr style=\"text-align: right;\">\n",
              "      <th></th>\n",
              "      <th>SK_ID_CURR</th>\n",
              "      <th>PREVIOUS_APPLICATION_COUNT</th>\n",
              "    </tr>\n",
              "  </thead>\n",
              "  <tbody>\n",
              "    <tr>\n",
              "      <th>0</th>\n",
              "      <td>100001</td>\n",
              "      <td>1</td>\n",
              "    </tr>\n",
              "    <tr>\n",
              "      <th>1</th>\n",
              "      <td>100002</td>\n",
              "      <td>1</td>\n",
              "    </tr>\n",
              "    <tr>\n",
              "      <th>2</th>\n",
              "      <td>100003</td>\n",
              "      <td>3</td>\n",
              "    </tr>\n",
              "    <tr>\n",
              "      <th>3</th>\n",
              "      <td>100004</td>\n",
              "      <td>1</td>\n",
              "    </tr>\n",
              "    <tr>\n",
              "      <th>4</th>\n",
              "      <td>100005</td>\n",
              "      <td>2</td>\n",
              "    </tr>\n",
              "  </tbody>\n",
              "</table>\n",
              "</div>"
            ],
            "text/plain": [
              "   SK_ID_CURR  PREVIOUS_APPLICATION_COUNT\n",
              "0      100001                           1\n",
              "1      100002                           1\n",
              "2      100003                           3\n",
              "3      100004                           1\n",
              "4      100005                           2"
            ]
          },
          "metadata": {
            "tags": []
          },
          "execution_count": 140
        }
      ]
    },
    {
      "cell_type": "markdown",
      "metadata": {
        "id": "j2dEoejhz898",
        "colab_type": "text"
      },
      "source": [
        "#### Merging Previous application to the above merge"
      ]
    },
    {
      "cell_type": "code",
      "metadata": {
        "id": "92vbQ2bbz899",
        "colab_type": "code",
        "colab": {}
      },
      "source": [
        "data = data.merge(previous_application_counts, on = 'SK_ID_CURR', how = 'left')"
      ],
      "execution_count": null,
      "outputs": []
    },
    {
      "cell_type": "code",
      "metadata": {
        "id": "WiQypkm4z8-A",
        "colab_type": "code",
        "colab": {
          "base_uri": "https://localhost:8080/",
          "height": 261
        },
        "outputId": "8c41240f-aecd-4bc6-f5a2-36cb518adce4"
      },
      "source": [
        "data.head(5)"
      ],
      "execution_count": null,
      "outputs": [
        {
          "output_type": "execute_result",
          "data": {
            "text/html": [
              "<div>\n",
              "<style scoped>\n",
              "    .dataframe tbody tr th:only-of-type {\n",
              "        vertical-align: middle;\n",
              "    }\n",
              "\n",
              "    .dataframe tbody tr th {\n",
              "        vertical-align: top;\n",
              "    }\n",
              "\n",
              "    .dataframe thead th {\n",
              "        text-align: right;\n",
              "    }\n",
              "</style>\n",
              "<table border=\"1\" class=\"dataframe\">\n",
              "  <thead>\n",
              "    <tr style=\"text-align: right;\">\n",
              "      <th></th>\n",
              "      <th>SK_ID_CURR</th>\n",
              "      <th>CNT_CHILDREN</th>\n",
              "      <th>AMT_INCOME_TOTAL</th>\n",
              "      <th>AMT_CREDIT</th>\n",
              "      <th>AMT_ANNUITY</th>\n",
              "      <th>AMT_GOODS_PRICE</th>\n",
              "      <th>REGION_POPULATION_RELATIVE</th>\n",
              "      <th>DAYS_BIRTH</th>\n",
              "      <th>DAYS_EMPLOYED</th>\n",
              "      <th>DAYS_REGISTRATION</th>\n",
              "      <th>DAYS_ID_PUBLISH</th>\n",
              "      <th>OWN_CAR_AGE</th>\n",
              "      <th>FLAG_MOBIL</th>\n",
              "      <th>FLAG_EMP_PHONE</th>\n",
              "      <th>FLAG_WORK_PHONE</th>\n",
              "      <th>FLAG_CONT_MOBILE</th>\n",
              "      <th>FLAG_PHONE</th>\n",
              "      <th>FLAG_EMAIL</th>\n",
              "      <th>CNT_FAM_MEMBERS</th>\n",
              "      <th>REGION_RATING_CLIENT</th>\n",
              "      <th>REGION_RATING_CLIENT_W_CITY</th>\n",
              "      <th>HOUR_APPR_PROCESS_START</th>\n",
              "      <th>REG_REGION_NOT_LIVE_REGION</th>\n",
              "      <th>REG_REGION_NOT_WORK_REGION</th>\n",
              "      <th>LIVE_REGION_NOT_WORK_REGION</th>\n",
              "      <th>REG_CITY_NOT_LIVE_CITY</th>\n",
              "      <th>REG_CITY_NOT_WORK_CITY</th>\n",
              "      <th>LIVE_CITY_NOT_WORK_CITY</th>\n",
              "      <th>EXT_SOURCE_2</th>\n",
              "      <th>EXT_SOURCE_3</th>\n",
              "      <th>APARTMENTS_AVG</th>\n",
              "      <th>BASEMENTAREA_AVG</th>\n",
              "      <th>YEARS_BEGINEXPLUATATION_AVG</th>\n",
              "      <th>YEARS_BUILD_AVG</th>\n",
              "      <th>COMMONAREA_AVG</th>\n",
              "      <th>ELEVATORS_AVG</th>\n",
              "      <th>ENTRANCES_AVG</th>\n",
              "      <th>FLOORSMAX_AVG</th>\n",
              "      <th>FLOORSMIN_AVG</th>\n",
              "      <th>LANDAREA_AVG</th>\n",
              "      <th>...</th>\n",
              "      <th>ORGANIZATION_TYPE_Medicine</th>\n",
              "      <th>ORGANIZATION_TYPE_Military</th>\n",
              "      <th>ORGANIZATION_TYPE_Mobile</th>\n",
              "      <th>ORGANIZATION_TYPE_Other</th>\n",
              "      <th>ORGANIZATION_TYPE_Police</th>\n",
              "      <th>ORGANIZATION_TYPE_Postal</th>\n",
              "      <th>ORGANIZATION_TYPE_Realtor</th>\n",
              "      <th>ORGANIZATION_TYPE_Religion</th>\n",
              "      <th>ORGANIZATION_TYPE_Restaurant</th>\n",
              "      <th>ORGANIZATION_TYPE_School</th>\n",
              "      <th>ORGANIZATION_TYPE_Security</th>\n",
              "      <th>ORGANIZATION_TYPE_Security Ministries</th>\n",
              "      <th>ORGANIZATION_TYPE_Self-employed</th>\n",
              "      <th>ORGANIZATION_TYPE_Services</th>\n",
              "      <th>ORGANIZATION_TYPE_Telecom</th>\n",
              "      <th>ORGANIZATION_TYPE_Trade: type 1</th>\n",
              "      <th>ORGANIZATION_TYPE_Trade: type 2</th>\n",
              "      <th>ORGANIZATION_TYPE_Trade: type 3</th>\n",
              "      <th>ORGANIZATION_TYPE_Trade: type 4</th>\n",
              "      <th>ORGANIZATION_TYPE_Trade: type 5</th>\n",
              "      <th>ORGANIZATION_TYPE_Trade: type 6</th>\n",
              "      <th>ORGANIZATION_TYPE_Trade: type 7</th>\n",
              "      <th>ORGANIZATION_TYPE_Transport: type 1</th>\n",
              "      <th>ORGANIZATION_TYPE_Transport: type 2</th>\n",
              "      <th>ORGANIZATION_TYPE_Transport: type 3</th>\n",
              "      <th>ORGANIZATION_TYPE_Transport: type 4</th>\n",
              "      <th>ORGANIZATION_TYPE_University</th>\n",
              "      <th>ORGANIZATION_TYPE_XNA</th>\n",
              "      <th>PREVIOUS_LOANS_COUNT</th>\n",
              "      <th>PREV_BUR_MEAN_DAYS_CREDIT</th>\n",
              "      <th>PREV_BUR_MEAN_CREDIT_DAY_OVERDUE</th>\n",
              "      <th>PREV_BUR_MEAN_DAYS_CREDIT_ENDDATE</th>\n",
              "      <th>PREV_BUR_MEAN_CNT_CREDIT_PROLONG</th>\n",
              "      <th>PREV_BUR_MEAN_AMT_CREDIT_SUM</th>\n",
              "      <th>PREV_BUR_MEAN_AMT_CREDIT_SUM_DEBT</th>\n",
              "      <th>PREV_BUR_MEAN_AMT_CREDIT_SUM_LIMIT</th>\n",
              "      <th>PREV_BUR_MEAN_AMT_CREDIT_SUM_OVERDUE</th>\n",
              "      <th>PREV_BUR_MEAN_DAYS_CREDIT_UPDATE</th>\n",
              "      <th>PREV_BUR_MEAN_BUR_BAL_MEAN_MONTHS_BALANCE</th>\n",
              "      <th>PREVIOUS_APPLICATION_COUNT</th>\n",
              "    </tr>\n",
              "  </thead>\n",
              "  <tbody>\n",
              "    <tr>\n",
              "      <th>0</th>\n",
              "      <td>100002</td>\n",
              "      <td>0</td>\n",
              "      <td>202500.0</td>\n",
              "      <td>406597.5</td>\n",
              "      <td>24700.5</td>\n",
              "      <td>351000.0</td>\n",
              "      <td>0.018799</td>\n",
              "      <td>-9461</td>\n",
              "      <td>-637</td>\n",
              "      <td>-3648.0</td>\n",
              "      <td>-2120</td>\n",
              "      <td>0.0</td>\n",
              "      <td>1</td>\n",
              "      <td>1</td>\n",
              "      <td>0</td>\n",
              "      <td>1</td>\n",
              "      <td>1</td>\n",
              "      <td>0</td>\n",
              "      <td>1.0</td>\n",
              "      <td>2</td>\n",
              "      <td>2</td>\n",
              "      <td>10</td>\n",
              "      <td>0</td>\n",
              "      <td>0</td>\n",
              "      <td>0</td>\n",
              "      <td>0</td>\n",
              "      <td>0</td>\n",
              "      <td>0</td>\n",
              "      <td>0.262939</td>\n",
              "      <td>0.139404</td>\n",
              "      <td>0.024704</td>\n",
              "      <td>0.036896</td>\n",
              "      <td>0.972168</td>\n",
              "      <td>0.619141</td>\n",
              "      <td>0.014297</td>\n",
              "      <td>0.000000</td>\n",
              "      <td>0.068970</td>\n",
              "      <td>0.083313</td>\n",
              "      <td>0.125000</td>\n",
              "      <td>0.036896</td>\n",
              "      <td>...</td>\n",
              "      <td>0</td>\n",
              "      <td>0</td>\n",
              "      <td>0</td>\n",
              "      <td>0</td>\n",
              "      <td>0</td>\n",
              "      <td>0</td>\n",
              "      <td>0</td>\n",
              "      <td>0</td>\n",
              "      <td>0</td>\n",
              "      <td>0</td>\n",
              "      <td>0</td>\n",
              "      <td>0</td>\n",
              "      <td>0</td>\n",
              "      <td>0</td>\n",
              "      <td>0</td>\n",
              "      <td>0</td>\n",
              "      <td>0</td>\n",
              "      <td>0</td>\n",
              "      <td>0</td>\n",
              "      <td>0</td>\n",
              "      <td>0</td>\n",
              "      <td>0</td>\n",
              "      <td>0</td>\n",
              "      <td>0</td>\n",
              "      <td>0</td>\n",
              "      <td>0</td>\n",
              "      <td>0</td>\n",
              "      <td>0</td>\n",
              "      <td>8.0</td>\n",
              "      <td>-874.00</td>\n",
              "      <td>0.0</td>\n",
              "      <td>-92.25</td>\n",
              "      <td>0.0</td>\n",
              "      <td>108131.945312</td>\n",
              "      <td>67203.0</td>\n",
              "      <td>3998.570557</td>\n",
              "      <td>0.0</td>\n",
              "      <td>-499.875</td>\n",
              "      <td>-21.875</td>\n",
              "      <td>1.0</td>\n",
              "    </tr>\n",
              "    <tr>\n",
              "      <th>1</th>\n",
              "      <td>100003</td>\n",
              "      <td>0</td>\n",
              "      <td>270000.0</td>\n",
              "      <td>1293502.5</td>\n",
              "      <td>35698.5</td>\n",
              "      <td>1129500.0</td>\n",
              "      <td>0.003542</td>\n",
              "      <td>-16765</td>\n",
              "      <td>-1188</td>\n",
              "      <td>-1186.0</td>\n",
              "      <td>-291</td>\n",
              "      <td>0.0</td>\n",
              "      <td>1</td>\n",
              "      <td>1</td>\n",
              "      <td>0</td>\n",
              "      <td>1</td>\n",
              "      <td>1</td>\n",
              "      <td>0</td>\n",
              "      <td>2.0</td>\n",
              "      <td>1</td>\n",
              "      <td>1</td>\n",
              "      <td>11</td>\n",
              "      <td>0</td>\n",
              "      <td>0</td>\n",
              "      <td>0</td>\n",
              "      <td>0</td>\n",
              "      <td>0</td>\n",
              "      <td>0</td>\n",
              "      <td>0.622070</td>\n",
              "      <td>0.535156</td>\n",
              "      <td>0.095886</td>\n",
              "      <td>0.052887</td>\n",
              "      <td>0.984863</td>\n",
              "      <td>0.795898</td>\n",
              "      <td>0.060486</td>\n",
              "      <td>0.080017</td>\n",
              "      <td>0.034485</td>\n",
              "      <td>0.291748</td>\n",
              "      <td>0.333252</td>\n",
              "      <td>0.013000</td>\n",
              "      <td>...</td>\n",
              "      <td>0</td>\n",
              "      <td>0</td>\n",
              "      <td>0</td>\n",
              "      <td>0</td>\n",
              "      <td>0</td>\n",
              "      <td>0</td>\n",
              "      <td>0</td>\n",
              "      <td>0</td>\n",
              "      <td>0</td>\n",
              "      <td>1</td>\n",
              "      <td>0</td>\n",
              "      <td>0</td>\n",
              "      <td>0</td>\n",
              "      <td>0</td>\n",
              "      <td>0</td>\n",
              "      <td>0</td>\n",
              "      <td>0</td>\n",
              "      <td>0</td>\n",
              "      <td>0</td>\n",
              "      <td>0</td>\n",
              "      <td>0</td>\n",
              "      <td>0</td>\n",
              "      <td>0</td>\n",
              "      <td>0</td>\n",
              "      <td>0</td>\n",
              "      <td>0</td>\n",
              "      <td>0</td>\n",
              "      <td>0</td>\n",
              "      <td>4.0</td>\n",
              "      <td>-1400.75</td>\n",
              "      <td>0.0</td>\n",
              "      <td>-544.50</td>\n",
              "      <td>0.0</td>\n",
              "      <td>254350.125000</td>\n",
              "      <td>0.0</td>\n",
              "      <td>202500.000000</td>\n",
              "      <td>0.0</td>\n",
              "      <td>-816.000</td>\n",
              "      <td>NaN</td>\n",
              "      <td>3.0</td>\n",
              "    </tr>\n",
              "    <tr>\n",
              "      <th>2</th>\n",
              "      <td>100004</td>\n",
              "      <td>0</td>\n",
              "      <td>67500.0</td>\n",
              "      <td>135000.0</td>\n",
              "      <td>6750.0</td>\n",
              "      <td>135000.0</td>\n",
              "      <td>0.010033</td>\n",
              "      <td>-19046</td>\n",
              "      <td>-225</td>\n",
              "      <td>-4260.0</td>\n",
              "      <td>-2531</td>\n",
              "      <td>26.0</td>\n",
              "      <td>1</td>\n",
              "      <td>1</td>\n",
              "      <td>1</td>\n",
              "      <td>1</td>\n",
              "      <td>1</td>\n",
              "      <td>0</td>\n",
              "      <td>1.0</td>\n",
              "      <td>2</td>\n",
              "      <td>2</td>\n",
              "      <td>9</td>\n",
              "      <td>0</td>\n",
              "      <td>0</td>\n",
              "      <td>0</td>\n",
              "      <td>0</td>\n",
              "      <td>0</td>\n",
              "      <td>0</td>\n",
              "      <td>0.556152</td>\n",
              "      <td>0.729492</td>\n",
              "      <td>0.000000</td>\n",
              "      <td>0.000000</td>\n",
              "      <td>0.000000</td>\n",
              "      <td>0.000000</td>\n",
              "      <td>0.000000</td>\n",
              "      <td>0.000000</td>\n",
              "      <td>0.000000</td>\n",
              "      <td>0.000000</td>\n",
              "      <td>0.000000</td>\n",
              "      <td>0.000000</td>\n",
              "      <td>...</td>\n",
              "      <td>0</td>\n",
              "      <td>0</td>\n",
              "      <td>0</td>\n",
              "      <td>0</td>\n",
              "      <td>0</td>\n",
              "      <td>0</td>\n",
              "      <td>0</td>\n",
              "      <td>0</td>\n",
              "      <td>0</td>\n",
              "      <td>0</td>\n",
              "      <td>0</td>\n",
              "      <td>0</td>\n",
              "      <td>0</td>\n",
              "      <td>0</td>\n",
              "      <td>0</td>\n",
              "      <td>0</td>\n",
              "      <td>0</td>\n",
              "      <td>0</td>\n",
              "      <td>0</td>\n",
              "      <td>0</td>\n",
              "      <td>0</td>\n",
              "      <td>0</td>\n",
              "      <td>0</td>\n",
              "      <td>0</td>\n",
              "      <td>0</td>\n",
              "      <td>0</td>\n",
              "      <td>0</td>\n",
              "      <td>0</td>\n",
              "      <td>2.0</td>\n",
              "      <td>-867.00</td>\n",
              "      <td>0.0</td>\n",
              "      <td>-488.50</td>\n",
              "      <td>0.0</td>\n",
              "      <td>94518.898438</td>\n",
              "      <td>0.0</td>\n",
              "      <td>0.000000</td>\n",
              "      <td>0.0</td>\n",
              "      <td>-532.000</td>\n",
              "      <td>NaN</td>\n",
              "      <td>1.0</td>\n",
              "    </tr>\n",
              "    <tr>\n",
              "      <th>3</th>\n",
              "      <td>100006</td>\n",
              "      <td>0</td>\n",
              "      <td>135000.0</td>\n",
              "      <td>312682.5</td>\n",
              "      <td>29686.5</td>\n",
              "      <td>297000.0</td>\n",
              "      <td>0.008018</td>\n",
              "      <td>-19005</td>\n",
              "      <td>-3039</td>\n",
              "      <td>-9832.0</td>\n",
              "      <td>-2437</td>\n",
              "      <td>0.0</td>\n",
              "      <td>1</td>\n",
              "      <td>1</td>\n",
              "      <td>0</td>\n",
              "      <td>1</td>\n",
              "      <td>0</td>\n",
              "      <td>0</td>\n",
              "      <td>2.0</td>\n",
              "      <td>2</td>\n",
              "      <td>2</td>\n",
              "      <td>17</td>\n",
              "      <td>0</td>\n",
              "      <td>0</td>\n",
              "      <td>0</td>\n",
              "      <td>0</td>\n",
              "      <td>0</td>\n",
              "      <td>0</td>\n",
              "      <td>0.650391</td>\n",
              "      <td>0.535156</td>\n",
              "      <td>0.000000</td>\n",
              "      <td>0.000000</td>\n",
              "      <td>0.000000</td>\n",
              "      <td>0.000000</td>\n",
              "      <td>0.000000</td>\n",
              "      <td>0.000000</td>\n",
              "      <td>0.000000</td>\n",
              "      <td>0.000000</td>\n",
              "      <td>0.000000</td>\n",
              "      <td>0.000000</td>\n",
              "      <td>...</td>\n",
              "      <td>0</td>\n",
              "      <td>0</td>\n",
              "      <td>0</td>\n",
              "      <td>0</td>\n",
              "      <td>0</td>\n",
              "      <td>0</td>\n",
              "      <td>0</td>\n",
              "      <td>0</td>\n",
              "      <td>0</td>\n",
              "      <td>0</td>\n",
              "      <td>0</td>\n",
              "      <td>0</td>\n",
              "      <td>0</td>\n",
              "      <td>0</td>\n",
              "      <td>0</td>\n",
              "      <td>0</td>\n",
              "      <td>0</td>\n",
              "      <td>0</td>\n",
              "      <td>0</td>\n",
              "      <td>0</td>\n",
              "      <td>0</td>\n",
              "      <td>0</td>\n",
              "      <td>0</td>\n",
              "      <td>0</td>\n",
              "      <td>0</td>\n",
              "      <td>0</td>\n",
              "      <td>0</td>\n",
              "      <td>0</td>\n",
              "      <td>NaN</td>\n",
              "      <td>NaN</td>\n",
              "      <td>NaN</td>\n",
              "      <td>NaN</td>\n",
              "      <td>NaN</td>\n",
              "      <td>NaN</td>\n",
              "      <td>NaN</td>\n",
              "      <td>NaN</td>\n",
              "      <td>NaN</td>\n",
              "      <td>NaN</td>\n",
              "      <td>NaN</td>\n",
              "      <td>9.0</td>\n",
              "    </tr>\n",
              "    <tr>\n",
              "      <th>4</th>\n",
              "      <td>100007</td>\n",
              "      <td>0</td>\n",
              "      <td>121500.0</td>\n",
              "      <td>513000.0</td>\n",
              "      <td>21865.5</td>\n",
              "      <td>513000.0</td>\n",
              "      <td>0.028656</td>\n",
              "      <td>-19932</td>\n",
              "      <td>-3038</td>\n",
              "      <td>-4312.0</td>\n",
              "      <td>-3458</td>\n",
              "      <td>0.0</td>\n",
              "      <td>1</td>\n",
              "      <td>1</td>\n",
              "      <td>0</td>\n",
              "      <td>1</td>\n",
              "      <td>0</td>\n",
              "      <td>0</td>\n",
              "      <td>1.0</td>\n",
              "      <td>2</td>\n",
              "      <td>2</td>\n",
              "      <td>11</td>\n",
              "      <td>0</td>\n",
              "      <td>0</td>\n",
              "      <td>0</td>\n",
              "      <td>0</td>\n",
              "      <td>1</td>\n",
              "      <td>1</td>\n",
              "      <td>0.322754</td>\n",
              "      <td>0.535156</td>\n",
              "      <td>0.000000</td>\n",
              "      <td>0.000000</td>\n",
              "      <td>0.000000</td>\n",
              "      <td>0.000000</td>\n",
              "      <td>0.000000</td>\n",
              "      <td>0.000000</td>\n",
              "      <td>0.000000</td>\n",
              "      <td>0.000000</td>\n",
              "      <td>0.000000</td>\n",
              "      <td>0.000000</td>\n",
              "      <td>...</td>\n",
              "      <td>0</td>\n",
              "      <td>0</td>\n",
              "      <td>0</td>\n",
              "      <td>0</td>\n",
              "      <td>0</td>\n",
              "      <td>0</td>\n",
              "      <td>0</td>\n",
              "      <td>1</td>\n",
              "      <td>0</td>\n",
              "      <td>0</td>\n",
              "      <td>0</td>\n",
              "      <td>0</td>\n",
              "      <td>0</td>\n",
              "      <td>0</td>\n",
              "      <td>0</td>\n",
              "      <td>0</td>\n",
              "      <td>0</td>\n",
              "      <td>0</td>\n",
              "      <td>0</td>\n",
              "      <td>0</td>\n",
              "      <td>0</td>\n",
              "      <td>0</td>\n",
              "      <td>0</td>\n",
              "      <td>0</td>\n",
              "      <td>0</td>\n",
              "      <td>0</td>\n",
              "      <td>0</td>\n",
              "      <td>0</td>\n",
              "      <td>1.0</td>\n",
              "      <td>-1149.00</td>\n",
              "      <td>0.0</td>\n",
              "      <td>-783.00</td>\n",
              "      <td>0.0</td>\n",
              "      <td>146250.000000</td>\n",
              "      <td>0.0</td>\n",
              "      <td>0.000000</td>\n",
              "      <td>0.0</td>\n",
              "      <td>-783.000</td>\n",
              "      <td>NaN</td>\n",
              "      <td>6.0</td>\n",
              "    </tr>\n",
              "  </tbody>\n",
              "</table>\n",
              "<p>5 rows × 224 columns</p>\n",
              "</div>"
            ],
            "text/plain": [
              "   SK_ID_CURR  ...  PREVIOUS_APPLICATION_COUNT\n",
              "0      100002  ...                         1.0\n",
              "1      100003  ...                         3.0\n",
              "2      100004  ...                         1.0\n",
              "3      100006  ...                         9.0\n",
              "4      100007  ...                         6.0\n",
              "\n",
              "[5 rows x 224 columns]"
            ]
          },
          "metadata": {
            "tags": []
          },
          "execution_count": 142
        }
      ]
    },
    {
      "cell_type": "code",
      "metadata": {
        "id": "FqS20uQFz8-E",
        "colab_type": "code",
        "colab": {}
      },
      "source": [
        "def extract_mean(x):\n",
        "    y = x.groupby('SK_ID_PREV', as_index=False).mean().add_prefix('CARD_MEAN_')\n",
        "    return y\n",
        "\n",
        "credit_card_balance_mean = extract_mean(credit_card_balance)\n",
        "\n",
        "credit_card_balance_mean = credit_card_balance_mean.rename(columns = {'CARD_MEAN_SK_ID_PREV' : 'SK_ID_PREV'})"
      ],
      "execution_count": null,
      "outputs": []
    },
    {
      "cell_type": "code",
      "metadata": {
        "id": "iApwaK3Nz8-H",
        "colab_type": "code",
        "colab": {}
      },
      "source": [
        "previous_application = previous_application.merge(credit_card_balance_mean, on = 'SK_ID_PREV', how = 'left')"
      ],
      "execution_count": null,
      "outputs": []
    },
    {
      "cell_type": "code",
      "metadata": {
        "id": "sIaW4xakz8-L",
        "colab_type": "code",
        "colab": {}
      },
      "source": [
        "def extract_mean(x):\n",
        "    y = x.groupby('SK_ID_PREV', as_index=False).mean().add_prefix('INSTALL_MEAN_')\n",
        "    return y\n",
        "\n",
        "install_pay_mean = extract_mean(installments_payments)\n",
        "\n",
        "install_pay_mean = install_pay_mean.rename(columns = {'INSTALL_MEAN_SK_ID_PREV' : 'SK_ID_PREV'})"
      ],
      "execution_count": null,
      "outputs": []
    },
    {
      "cell_type": "code",
      "metadata": {
        "id": "l6oDFiJJz8-P",
        "colab_type": "code",
        "colab": {}
      },
      "source": [
        "previous_application = previous_application.merge(install_pay_mean, on = 'SK_ID_PREV', how = 'left')"
      ],
      "execution_count": null,
      "outputs": []
    },
    {
      "cell_type": "code",
      "metadata": {
        "id": "j9bvWbJnz8-T",
        "colab_type": "code",
        "colab": {}
      },
      "source": [
        "def extract_mean(x):\n",
        "    y = x.groupby('SK_ID_PREV', as_index=False).mean().add_prefix('POS_MEAN_')\n",
        "    return y\n",
        "\n",
        "POS_mean = extract_mean(POS_CASH_balance)\n",
        "\n",
        "POS_mean = POS_mean.rename(columns = {'POS_MEAN_SK_ID_PREV' : 'SK_ID_PREV'})"
      ],
      "execution_count": null,
      "outputs": []
    },
    {
      "cell_type": "code",
      "metadata": {
        "id": "qqQP00Y0z8-X",
        "colab_type": "code",
        "colab": {}
      },
      "source": [
        "previous_application = previous_application.merge(POS_mean, on = 'SK_ID_PREV', how = 'left')"
      ],
      "execution_count": null,
      "outputs": []
    },
    {
      "cell_type": "markdown",
      "metadata": {
        "id": "tBWXGoBxKZ1z",
        "colab_type": "text"
      },
      "source": [
        ""
      ]
    },
    {
      "cell_type": "code",
      "metadata": {
        "id": "9_rkWbW4z8-b",
        "colab_type": "code",
        "colab": {}
      },
      "source": [
        "def extract_mean(x):\n",
        "    y = x.groupby('SK_ID_CURR', as_index=False).mean().add_prefix('PREV_APPL_MEAN_')\n",
        "    return y\n",
        "\n",
        "prev_appl_mean = extract_mean(previous_application)\n",
        "\n",
        "prev_appl_mean = prev_appl_mean.rename(columns = {'PREV_APPL_MEAN_SK_ID_CURR' : 'SK_ID_CURR'})\n",
        "\n",
        "prev_appl_mean = prev_appl_mean.drop('PREV_APPL_MEAN_SK_ID_PREV', axis = 1) "
      ],
      "execution_count": null,
      "outputs": []
    },
    {
      "cell_type": "code",
      "metadata": {
        "id": "yaRH_8Ovz8-g",
        "colab_type": "code",
        "colab": {
          "base_uri": "https://localhost:8080/",
          "height": 34
        },
        "outputId": "97e03c2a-dec4-4ccd-94ad-e9aa306ddee2"
      },
      "source": [
        "data.shape"
      ],
      "execution_count": null,
      "outputs": [
        {
          "output_type": "execute_result",
          "data": {
            "text/plain": [
              "(356255, 224)"
            ]
          },
          "metadata": {
            "tags": []
          },
          "execution_count": 150
        }
      ]
    },
    {
      "cell_type": "markdown",
      "metadata": {
        "id": "5fAwbGCCEIlG",
        "colab_type": "text"
      },
      "source": [
        ""
      ]
    },
    {
      "cell_type": "code",
      "metadata": {
        "id": "90FSOgA0z8-n",
        "colab_type": "code",
        "colab": {}
      },
      "source": [
        "data = data.merge(prev_appl_mean, on = 'SK_ID_CURR', how = 'left')"
      ],
      "execution_count": null,
      "outputs": []
    },
    {
      "cell_type": "markdown",
      "metadata": {
        "id": "FhSfvKyCz8-p",
        "colab_type": "text"
      },
      "source": [
        "#### Now we seperate test and train to fit and predict the model"
      ]
    },
    {
      "cell_type": "code",
      "metadata": {
        "id": "KS8myPDpz8-q",
        "colab_type": "code",
        "colab": {}
      },
      "source": [
        "train1 = data[data['SK_ID_CURR'].isin(train.SK_ID_CURR)]\n",
        "\n",
        "test1 = data[data.SK_ID_CURR.isin(test.SK_ID_CURR)]"
      ],
      "execution_count": null,
      "outputs": []
    },
    {
      "cell_type": "code",
      "metadata": {
        "id": "lNMG7Mk9z8-t",
        "colab_type": "code",
        "colab": {
          "base_uri": "https://localhost:8080/",
          "height": 218
        },
        "outputId": "63f8cfe2-956e-47eb-a0d9-bfba98f8a528"
      },
      "source": [
        "train1.isnull().sum()"
      ],
      "execution_count": null,
      "outputs": [
        {
          "output_type": "execute_result",
          "data": {
            "text/plain": [
              "SK_ID_CURR                                           0\n",
              "CNT_CHILDREN                                         0\n",
              "AMT_INCOME_TOTAL                                     0\n",
              "AMT_CREDIT                                           0\n",
              "AMT_ANNUITY                                          0\n",
              "                                                 ...  \n",
              "PREV_APPL_MEAN_POS_MEAN_MONTHS_BALANCE           83976\n",
              "PREV_APPL_MEAN_POS_MEAN_CNT_INSTALMENT           84431\n",
              "PREV_APPL_MEAN_POS_MEAN_CNT_INSTALMENT_FUTURE    84431\n",
              "PREV_APPL_MEAN_POS_MEAN_SK_DPD                   83976\n",
              "PREV_APPL_MEAN_POS_MEAN_SK_DPD_DEF               83976\n",
              "Length: 271, dtype: int64"
            ]
          },
          "metadata": {
            "tags": []
          },
          "execution_count": 154
        }
      ]
    },
    {
      "cell_type": "code",
      "metadata": {
        "id": "O7qFVE4pz8-w",
        "colab_type": "code",
        "colab": {
          "base_uri": "https://localhost:8080/",
          "height": 34
        },
        "outputId": "4332cb72-30c5-4727-edab-d69218c29c63"
      },
      "source": [
        "test1.shape"
      ],
      "execution_count": null,
      "outputs": [
        {
          "output_type": "execute_result",
          "data": {
            "text/plain": [
              "(48744, 271)"
            ]
          },
          "metadata": {
            "tags": []
          },
          "execution_count": 155
        }
      ]
    },
    {
      "cell_type": "code",
      "metadata": {
        "id": "qJOxVG_xGtPE",
        "colab_type": "code",
        "colab": {
          "base_uri": "https://localhost:8080/",
          "height": 34
        },
        "outputId": "06aca9bd-be19-4a26-db37-893dce9c15f5"
      },
      "source": [
        "train1.shape"
      ],
      "execution_count": null,
      "outputs": [
        {
          "output_type": "execute_result",
          "data": {
            "text/plain": [
              "(307511, 271)"
            ]
          },
          "metadata": {
            "tags": []
          },
          "execution_count": 156
        }
      ]
    },
    {
      "cell_type": "code",
      "metadata": {
        "id": "gyASFsntz8-0",
        "colab_type": "code",
        "colab": {
          "base_uri": "https://localhost:8080/",
          "height": 302
        },
        "outputId": "eb9664ef-d682-4dce-e879-8bc512bfc684"
      },
      "source": [
        "train1[train1.isnull()]=0\n",
        "test1[test1.isnull()]=0"
      ],
      "execution_count": null,
      "outputs": [
        {
          "output_type": "stream",
          "text": [
            "/usr/local/lib/python3.6/dist-packages/ipykernel_launcher.py:1: SettingWithCopyWarning: \n",
            "A value is trying to be set on a copy of a slice from a DataFrame.\n",
            "Try using .loc[row_indexer,col_indexer] = value instead\n",
            "\n",
            "See the caveats in the documentation: https://pandas.pydata.org/pandas-docs/stable/user_guide/indexing.html#returning-a-view-versus-a-copy\n",
            "  \"\"\"Entry point for launching an IPython kernel.\n",
            "/usr/local/lib/python3.6/dist-packages/pandas/core/frame.py:2986: SettingWithCopyWarning: \n",
            "A value is trying to be set on a copy of a slice from a DataFrame\n",
            "\n",
            "See the caveats in the documentation: https://pandas.pydata.org/pandas-docs/stable/user_guide/indexing.html#returning-a-view-versus-a-copy\n",
            "  self._where(-key, value, inplace=True)\n",
            "/usr/local/lib/python3.6/dist-packages/ipykernel_launcher.py:2: SettingWithCopyWarning: \n",
            "A value is trying to be set on a copy of a slice from a DataFrame.\n",
            "Try using .loc[row_indexer,col_indexer] = value instead\n",
            "\n",
            "See the caveats in the documentation: https://pandas.pydata.org/pandas-docs/stable/user_guide/indexing.html#returning-a-view-versus-a-copy\n",
            "  \n"
          ],
          "name": "stderr"
        }
      ]
    },
    {
      "cell_type": "markdown",
      "metadata": {
        "id": "EYUOt70Pz8-4",
        "colab_type": "text"
      },
      "source": [
        "### Splitting Train data into train  and test"
      ]
    },
    {
      "cell_type": "code",
      "metadata": {
        "id": "qnB7Jqozz8-4",
        "colab_type": "code",
        "colab": {}
      },
      "source": [
        "y = train_labels\n",
        "x=train1\n",
        "from sklearn.model_selection import train_test_split\n",
        "x_train , x_test , y_train , y_test = train_test_split(x,y, stratify = y,\n",
        "                                                      test_size =0.25)"
      ],
      "execution_count": null,
      "outputs": []
    },
    {
      "cell_type": "code",
      "metadata": {
        "id": "hNq2msXJCjGU",
        "colab_type": "code",
        "colab": {}
      },
      "source": [
        "X_train1.sample()"
      ],
      "execution_count": null,
      "outputs": []
    },
    {
      "cell_type": "markdown",
      "metadata": {
        "colab_type": "text",
        "id": "bNtv8TJhB5Ud"
      },
      "source": [
        "## Model 1 "
      ]
    },
    {
      "cell_type": "markdown",
      "metadata": {
        "id": "gXOIi-Huz8-7",
        "colab_type": "text"
      },
      "source": [
        "## Model 1 "
      ]
    },
    {
      "cell_type": "markdown",
      "metadata": {
        "id": "LjJI9Y0dz8-_",
        "colab_type": "text"
      },
      "source": [
        "### Fitting a logistic model with L1 regularisation"
      ]
    },
    {
      "cell_type": "markdown",
      "metadata": {
        "id": "1_o3RNzIz8_C",
        "colab_type": "text"
      },
      "source": [
        "#### Predicting the model accuracy"
      ]
    },
    {
      "cell_type": "code",
      "metadata": {
        "id": "n6Au42HKz8_J",
        "colab_type": "code",
        "colab": {}
      },
      "source": [
        "from sklearn.metrics import classification_report,confusion_matrix,accuracy_score,roc_auc_score"
      ],
      "execution_count": null,
      "outputs": []
    },
    {
      "cell_type": "markdown",
      "metadata": {
        "id": "mMdOfQlMz8_O",
        "colab_type": "text"
      },
      "source": [
        "### Weight of Evidence"
      ]
    },
    {
      "cell_type": "code",
      "metadata": {
        "id": "jgcawxTdz8_P",
        "colab_type": "code",
        "colab": {}
      },
      "source": [
        "# import packages\n",
        "import pandas as pd\n",
        "import numpy as np\n",
        "import pandas.core.algorithms as algos\n",
        "from pandas import Series\n",
        "import scipy.stats.stats as stats\n",
        "import re\n",
        "import traceback\n",
        "import string\n",
        "\n",
        "max_bin = 20\n",
        "force_bin = 3\n",
        "\n",
        "# define a binning function\n",
        "def mono_bin(Y, X, n = max_bin):\n",
        "    \n",
        "    df1 = pd.DataFrame({\"X\": X, \"Y\": Y})\n",
        "    justmiss = df1[['X','Y']][df1.X.isnull()]\n",
        "    notmiss = df1[['X','Y']][df1.X.notnull()]\n",
        "    r = 0\n",
        "    while np.abs(r) < 1:\n",
        "        try:\n",
        "            d1 = pd.DataFrame({\"X\": notmiss.X, \"Y\": notmiss.Y, \"Bucket\": pd.qcut(notmiss.X, n)})\n",
        "            d2 = d1.groupby('Bucket', as_index=True)\n",
        "            r, p = stats.spearmanr(d2.mean().X, d2.mean().Y)\n",
        "            n = n - 1 \n",
        "        except Exception as e:\n",
        "            n = n - 1\n",
        "\n",
        "    if len(d2) == 1:\n",
        "        n = force_bin         \n",
        "        bins = algos.quantile(notmiss.X, np.linspace(0, 1, n))\n",
        "        if len(np.unique(bins)) == 2:\n",
        "            bins = np.insert(bins, 0, 1)\n",
        "            bins[1] = bins[1]-(bins[1]/2)\n",
        "        d1 = pd.DataFrame({\"X\": notmiss.X, \"Y\": notmiss.Y, \"Bucket\": pd.cut(notmiss.X, np.unique(bins),include_lowest=True)}) \n",
        "        d2 = d1.groupby('Bucket', as_index=True)\n",
        "    \n",
        "    d3 = pd.DataFrame({},index=[])\n",
        "    d3[\"MIN_VALUE\"] = d2.min().X\n",
        "    d3[\"MAX_VALUE\"] = d2.max().X\n",
        "    d3[\"COUNT\"] = d2.count().Y\n",
        "    d3[\"EVENT\"] = d2.sum().Y\n",
        "    d3[\"NONEVENT\"] = d2.count().Y - d2.sum().Y\n",
        "    d3=d3.reset_index(drop=True)\n",
        "    \n",
        "    if len(justmiss.index) > 0:\n",
        "        d4 = pd.DataFrame({'MIN_VALUE':np.nan},index=[0])\n",
        "        d4[\"MAX_VALUE\"] = np.nan\n",
        "        d4[\"COUNT\"] = justmiss.count().Y\n",
        "        d4[\"EVENT\"] = justmiss.sum().Y\n",
        "        d4[\"NONEVENT\"] = justmiss.count().Y - justmiss.sum().Y\n",
        "        d3 = d3.append(d4,ignore_index=True)\n",
        "    \n",
        "    d3[\"EVENT_RATE\"] = d3.EVENT/d3.COUNT\n",
        "    d3[\"NON_EVENT_RATE\"] = d3.NONEVENT/d3.COUNT\n",
        "    d3[\"DIST_EVENT\"] = d3.EVENT/d3.sum().EVENT\n",
        "    d3[\"DIST_NON_EVENT\"] = d3.NONEVENT/d3.sum().NONEVENT\n",
        "    d3[\"WOE\"] = np.log(d3.DIST_EVENT/d3.DIST_NON_EVENT)\n",
        "    d3[\"IV\"] = (d3.DIST_EVENT-d3.DIST_NON_EVENT)*np.log(d3.DIST_EVENT/d3.DIST_NON_EVENT)\n",
        "    d3[\"VAR_NAME\"] = \"VAR\"\n",
        "    d3 = d3[['VAR_NAME','MIN_VALUE', 'MAX_VALUE', 'COUNT', 'EVENT', 'EVENT_RATE', 'NONEVENT', 'NON_EVENT_RATE', 'DIST_EVENT','DIST_NON_EVENT','WOE', 'IV']]       \n",
        "    d3 = d3.replace([np.inf, -np.inf], 0)\n",
        "    d3.IV = d3.IV.sum()\n",
        "    \n",
        "    return(d3)\n",
        "\n",
        "def char_bin(Y, X):\n",
        "        \n",
        "    df1 = pd.DataFrame({\"X\": X, \"Y\": Y})\n",
        "    justmiss = df1[['X','Y']][df1.X.isnull()]\n",
        "    notmiss = df1[['X','Y']][df1.X.notnull()]    \n",
        "    df2 = notmiss.groupby('X',as_index=True)\n",
        "    \n",
        "    d3 = pd.DataFrame({},index=[])\n",
        "    d3[\"COUNT\"] = df2.count().Y\n",
        "    d3[\"MIN_VALUE\"] = df2.sum().Y.index\n",
        "    d3[\"MAX_VALUE\"] = d3[\"MIN_VALUE\"]\n",
        "    d3[\"EVENT\"] = df2.sum().Y\n",
        "    d3[\"NONEVENT\"] = df2.count().Y - df2.sum().Y\n",
        "    \n",
        "    if len(justmiss.index) > 0:\n",
        "        d4 = pd.DataFrame({'MIN_VALUE':np.nan},index=[0])\n",
        "        d4[\"MAX_VALUE\"] = np.nan\n",
        "        d4[\"COUNT\"] = justmiss.count().Y\n",
        "        d4[\"EVENT\"] = justmiss.sum().Y\n",
        "        d4[\"NONEVENT\"] = justmiss.count().Y - justmiss.sum().Y\n",
        "        d3 = d3.append(d4,ignore_index=True)\n",
        "    \n",
        "    d3[\"EVENT_RATE\"] = d3.EVENT/d3.COUNT\n",
        "    d3[\"NON_EVENT_RATE\"] = d3.NONEVENT/d3.COUNT\n",
        "    d3[\"DIST_EVENT\"] = d3.EVENT/d3.sum().EVENT\n",
        "    d3[\"DIST_NON_EVENT\"] = d3.NONEVENT/d3.sum().NONEVENT\n",
        "    d3[\"WOE\"] = np.log(d3.DIST_EVENT/d3.DIST_NON_EVENT)\n",
        "    d3[\"IV\"] = (d3.DIST_EVENT-d3.DIST_NON_EVENT)*np.log(d3.DIST_EVENT/d3.DIST_NON_EVENT)\n",
        "    d3[\"VAR_NAME\"] = \"VAR\"\n",
        "    d3 = d3[['VAR_NAME','MIN_VALUE', 'MAX_VALUE', 'COUNT', 'EVENT', 'EVENT_RATE', 'NONEVENT', 'NON_EVENT_RATE', 'DIST_EVENT','DIST_NON_EVENT','WOE', 'IV']]      \n",
        "    d3 = d3.replace([np.inf, -np.inf], 0)\n",
        "    d3.IV = d3.IV.sum()\n",
        "    d3 = d3.reset_index(drop=True)\n",
        "    \n",
        "    return(d3)\n",
        "\n",
        "def data_vars(df1, target):\n",
        "    \n",
        "    stack = traceback.extract_stack()\n",
        "    filename, lineno, function_name, code = stack[-2]\n",
        "    vars_name = re.compile(r'\\((.*?)\\).*$').search(code).groups()[0]\n",
        "    final = (re.findall(r\"[\\w']+\", vars_name))[-1]\n",
        "    \n",
        "    x = df1.dtypes.index\n",
        "    count = -1\n",
        "    count_fin = 0\n",
        "    for i in x:\n",
        "        print(count_fin)\n",
        "        if i.upper() not in (final.upper()):\n",
        "            if np.issubdtype(df1[i], np.number) and len(Series.unique(df1[i])) > 2:\n",
        "                conv = mono_bin(target, df1[i])\n",
        "                conv[\"VAR_NAME\"] = i\n",
        "                count = count + 1\n",
        "            else:\n",
        "                conv = char_bin(target, df1[i])\n",
        "                conv[\"VAR_NAME\"] = i            \n",
        "                count = count + 1\n",
        "                \n",
        "            if count == 0:\n",
        "                iv_df = conv\n",
        "            else:\n",
        "                iv_df = iv_df.append(conv,ignore_index=True)\n",
        "        count_fin = count_fin + 1 \n",
        "    iv = pd.DataFrame({'IV':iv_df.groupby('VAR_NAME').IV.max()})\n",
        "    iv = iv.reset_index()\n",
        "    return(iv_df,iv) "
      ],
      "execution_count": null,
      "outputs": []
    },
    {
      "cell_type": "code",
      "metadata": {
        "id": "wXeeZczlz8_R",
        "colab_type": "code",
        "colab": {
          "base_uri": "https://localhost:8080/",
          "height": 1000
        },
        "outputId": "33fd2371-ba86-468a-e877-1ffd28763a35"
      },
      "source": [
        "final_iv, IV = data_vars(x_train, y_train)"
      ],
      "execution_count": null,
      "outputs": [
        {
          "output_type": "stream",
          "text": [
            "0\n",
            "1\n",
            "2\n",
            "3\n",
            "4\n",
            "5\n",
            "6\n",
            "7\n",
            "8\n",
            "9\n",
            "10\n",
            "11\n",
            "12\n",
            "13\n",
            "14\n",
            "15\n",
            "16\n"
          ],
          "name": "stdout"
        },
        {
          "output_type": "stream",
          "text": [
            "/usr/local/lib/python3.6/dist-packages/pandas/core/series.py:679: RuntimeWarning: divide by zero encountered in log\n",
            "  result = getattr(ufunc, method)(*inputs, **kwargs)\n"
          ],
          "name": "stderr"
        },
        {
          "output_type": "stream",
          "text": [
            "17\n",
            "18\n",
            "19\n",
            "20\n",
            "21\n",
            "22\n",
            "23\n",
            "24\n",
            "25\n",
            "26\n",
            "27\n",
            "28\n",
            "29\n",
            "30\n",
            "31\n",
            "32\n",
            "33\n",
            "34\n",
            "35\n",
            "36\n",
            "37\n",
            "38\n",
            "39\n",
            "40\n",
            "41\n",
            "42\n",
            "43\n",
            "44\n",
            "45\n",
            "46\n",
            "47\n",
            "48\n",
            "49\n",
            "50\n",
            "51\n",
            "52\n",
            "53\n",
            "54\n",
            "55\n",
            "56\n",
            "57\n",
            "58\n",
            "59\n",
            "60\n",
            "61\n",
            "62\n",
            "63\n",
            "64\n",
            "65\n",
            "66\n",
            "67\n",
            "68\n",
            "69\n",
            "70\n",
            "71\n",
            "72\n",
            "73\n",
            "74\n",
            "75\n",
            "76\n",
            "77\n",
            "78\n",
            "79\n",
            "80\n",
            "81\n",
            "82\n",
            "83\n",
            "84\n",
            "85\n",
            "86\n",
            "87\n",
            "88\n",
            "89\n",
            "90\n",
            "91\n",
            "92\n",
            "93\n",
            "94\n",
            "95\n",
            "96\n",
            "97\n",
            "98\n",
            "99\n",
            "100\n",
            "101\n",
            "102\n",
            "103\n",
            "104\n",
            "105\n",
            "106\n",
            "107\n",
            "108\n",
            "109\n",
            "110\n",
            "111\n",
            "112\n",
            "113\n",
            "114\n",
            "115\n",
            "116\n",
            "117\n",
            "118\n",
            "119\n",
            "120\n",
            "121\n",
            "122\n",
            "123\n",
            "124\n",
            "125\n",
            "126\n",
            "127\n",
            "128\n",
            "129\n",
            "130\n",
            "131\n",
            "132\n",
            "133\n",
            "134\n",
            "135\n",
            "136\n",
            "137\n",
            "138\n",
            "139\n",
            "140\n",
            "141\n",
            "142\n",
            "143\n",
            "144\n",
            "145\n",
            "146\n",
            "147\n",
            "148\n",
            "149\n",
            "150\n",
            "151\n",
            "152\n",
            "153\n",
            "154\n",
            "155\n",
            "156\n",
            "157\n",
            "158\n",
            "159\n",
            "160\n",
            "161\n",
            "162\n",
            "163\n",
            "164\n",
            "165\n",
            "166\n",
            "167\n",
            "168\n",
            "169\n",
            "170\n",
            "171\n",
            "172\n",
            "173\n",
            "174\n",
            "175\n",
            "176\n",
            "177\n",
            "178\n",
            "179\n",
            "180\n",
            "181\n",
            "182\n",
            "183\n",
            "184\n",
            "185\n",
            "186\n",
            "187\n",
            "188\n",
            "189\n",
            "190\n",
            "191\n",
            "192\n",
            "193\n",
            "194\n",
            "195\n",
            "196\n",
            "197\n",
            "198\n",
            "199\n",
            "200\n",
            "201\n",
            "202\n",
            "203\n",
            "204\n",
            "205\n",
            "206\n",
            "207\n",
            "208\n",
            "209\n",
            "210\n",
            "211\n",
            "212\n",
            "213\n",
            "214\n",
            "215\n",
            "216\n",
            "217\n",
            "218\n",
            "219\n",
            "220\n",
            "221\n",
            "222\n",
            "223\n",
            "224\n",
            "225\n",
            "226\n",
            "227\n",
            "228\n",
            "229\n",
            "230\n",
            "231\n",
            "232\n",
            "233\n",
            "234\n",
            "235\n",
            "236\n",
            "237\n",
            "238\n",
            "239\n",
            "240\n",
            "241\n",
            "242\n",
            "243\n",
            "244\n",
            "245\n",
            "246\n",
            "247\n",
            "248\n",
            "249\n",
            "250\n",
            "251\n",
            "252\n",
            "253\n",
            "254\n",
            "255\n",
            "256\n",
            "257\n",
            "258\n",
            "259\n",
            "260\n",
            "261\n",
            "262\n",
            "263\n",
            "264\n",
            "265\n",
            "266\n",
            "267\n",
            "268\n",
            "269\n",
            "270\n"
          ],
          "name": "stdout"
        }
      ]
    },
    {
      "cell_type": "markdown",
      "metadata": {
        "id": "sMZwN4zWz8_V",
        "colab_type": "text"
      },
      "source": [
        "#### The list of important variables are"
      ]
    },
    {
      "cell_type": "code",
      "metadata": {
        "id": "AFTx-sLDz8_W",
        "colab_type": "code",
        "colab": {
          "base_uri": "https://localhost:8080/",
          "height": 343
        },
        "outputId": "a6197b69-9c8f-4422-9631-fcaa3dd3d1ce"
      },
      "source": [
        "IV.sort_values('IV',ascending='F').tail(10)"
      ],
      "execution_count": null,
      "outputs": [
        {
          "output_type": "execute_result",
          "data": {
            "text/html": [
              "<div>\n",
              "<style scoped>\n",
              "    .dataframe tbody tr th:only-of-type {\n",
              "        vertical-align: middle;\n",
              "    }\n",
              "\n",
              "    .dataframe tbody tr th {\n",
              "        vertical-align: top;\n",
              "    }\n",
              "\n",
              "    .dataframe thead th {\n",
              "        text-align: right;\n",
              "    }\n",
              "</style>\n",
              "<table border=\"1\" class=\"dataframe\">\n",
              "  <thead>\n",
              "    <tr style=\"text-align: right;\">\n",
              "      <th></th>\n",
              "      <th>VAR_NAME</th>\n",
              "      <th>IV</th>\n",
              "    </tr>\n",
              "  </thead>\n",
              "  <tbody>\n",
              "    <tr>\n",
              "      <th>209</th>\n",
              "      <td>PREV_APPL_MEAN_CARD_MEAN_CNT_DRAWINGS_CURRENT</td>\n",
              "      <td>0.041927</td>\n",
              "    </tr>\n",
              "    <tr>\n",
              "      <th>30</th>\n",
              "      <td>DAYS_LAST_PHONE_CHANGE</td>\n",
              "      <td>0.045018</td>\n",
              "    </tr>\n",
              "    <tr>\n",
              "      <th>115</th>\n",
              "      <td>NAME_INCOME_TYPE_Working</td>\n",
              "      <td>0.048401</td>\n",
              "    </tr>\n",
              "    <tr>\n",
              "      <th>94</th>\n",
              "      <td>NAME_EDUCATION_TYPE_Higher education</td>\n",
              "      <td>0.049542</td>\n",
              "    </tr>\n",
              "    <tr>\n",
              "      <th>247</th>\n",
              "      <td>PREV_BUR_MEAN_DAYS_CREDIT_ENDDATE</td>\n",
              "      <td>0.057699</td>\n",
              "    </tr>\n",
              "    <tr>\n",
              "      <th>26</th>\n",
              "      <td>DAYS_BIRTH</td>\n",
              "      <td>0.085315</td>\n",
              "    </tr>\n",
              "    <tr>\n",
              "      <th>248</th>\n",
              "      <td>PREV_BUR_MEAN_DAYS_CREDIT_UPDATE</td>\n",
              "      <td>0.088445</td>\n",
              "    </tr>\n",
              "    <tr>\n",
              "      <th>246</th>\n",
              "      <td>PREV_BUR_MEAN_DAYS_CREDIT</td>\n",
              "      <td>0.111373</td>\n",
              "    </tr>\n",
              "    <tr>\n",
              "      <th>41</th>\n",
              "      <td>EXT_SOURCE_3</td>\n",
              "      <td>0.297900</td>\n",
              "    </tr>\n",
              "    <tr>\n",
              "      <th>40</th>\n",
              "      <td>EXT_SOURCE_2</td>\n",
              "      <td>0.325537</td>\n",
              "    </tr>\n",
              "  </tbody>\n",
              "</table>\n",
              "</div>"
            ],
            "text/plain": [
              "                                          VAR_NAME        IV\n",
              "209  PREV_APPL_MEAN_CARD_MEAN_CNT_DRAWINGS_CURRENT  0.041927\n",
              "30                          DAYS_LAST_PHONE_CHANGE  0.045018\n",
              "115                       NAME_INCOME_TYPE_Working  0.048401\n",
              "94            NAME_EDUCATION_TYPE_Higher education  0.049542\n",
              "247              PREV_BUR_MEAN_DAYS_CREDIT_ENDDATE  0.057699\n",
              "26                                      DAYS_BIRTH  0.085315\n",
              "248               PREV_BUR_MEAN_DAYS_CREDIT_UPDATE  0.088445\n",
              "246                      PREV_BUR_MEAN_DAYS_CREDIT  0.111373\n",
              "41                                    EXT_SOURCE_3  0.297900\n",
              "40                                    EXT_SOURCE_2  0.325537"
            ]
          },
          "metadata": {
            "tags": []
          },
          "execution_count": 162
        }
      ]
    },
    {
      "cell_type": "code",
      "metadata": {
        "id": "xkWujyl6NWAW",
        "colab_type": "code",
        "colab": {}
      },
      "source": [
        ""
      ],
      "execution_count": null,
      "outputs": []
    },
    {
      "cell_type": "code",
      "metadata": {
        "id": "kuDp4CWNz8_a",
        "colab_type": "code",
        "colab": {}
      },
      "source": [
        "variables=IV.sort_values('IV',ascending='F').tail(7)"
      ],
      "execution_count": null,
      "outputs": []
    },
    {
      "cell_type": "code",
      "metadata": {
        "id": "1qAkA7HRK6F1",
        "colab_type": "code",
        "colab": {
          "base_uri": "https://localhost:8080/",
          "height": 254
        },
        "outputId": "33e7b915-dae6-48e7-c60d-a8be3fc66bcb"
      },
      "source": [
        "variables"
      ],
      "execution_count": 257,
      "outputs": [
        {
          "output_type": "execute_result",
          "data": {
            "text/html": [
              "<div>\n",
              "<style scoped>\n",
              "    .dataframe tbody tr th:only-of-type {\n",
              "        vertical-align: middle;\n",
              "    }\n",
              "\n",
              "    .dataframe tbody tr th {\n",
              "        vertical-align: top;\n",
              "    }\n",
              "\n",
              "    .dataframe thead th {\n",
              "        text-align: right;\n",
              "    }\n",
              "</style>\n",
              "<table border=\"1\" class=\"dataframe\">\n",
              "  <thead>\n",
              "    <tr style=\"text-align: right;\">\n",
              "      <th></th>\n",
              "      <th>VAR_NAME</th>\n",
              "      <th>IV</th>\n",
              "    </tr>\n",
              "  </thead>\n",
              "  <tbody>\n",
              "    <tr>\n",
              "      <th>94</th>\n",
              "      <td>NAME_EDUCATION_TYPE_Higher education</td>\n",
              "      <td>0.049542</td>\n",
              "    </tr>\n",
              "    <tr>\n",
              "      <th>247</th>\n",
              "      <td>PREV_BUR_MEAN_DAYS_CREDIT_ENDDATE</td>\n",
              "      <td>0.057699</td>\n",
              "    </tr>\n",
              "    <tr>\n",
              "      <th>26</th>\n",
              "      <td>DAYS_BIRTH</td>\n",
              "      <td>0.085315</td>\n",
              "    </tr>\n",
              "    <tr>\n",
              "      <th>248</th>\n",
              "      <td>PREV_BUR_MEAN_DAYS_CREDIT_UPDATE</td>\n",
              "      <td>0.088445</td>\n",
              "    </tr>\n",
              "    <tr>\n",
              "      <th>246</th>\n",
              "      <td>PREV_BUR_MEAN_DAYS_CREDIT</td>\n",
              "      <td>0.111373</td>\n",
              "    </tr>\n",
              "    <tr>\n",
              "      <th>41</th>\n",
              "      <td>EXT_SOURCE_3</td>\n",
              "      <td>0.297900</td>\n",
              "    </tr>\n",
              "    <tr>\n",
              "      <th>40</th>\n",
              "      <td>EXT_SOURCE_2</td>\n",
              "      <td>0.325537</td>\n",
              "    </tr>\n",
              "  </tbody>\n",
              "</table>\n",
              "</div>"
            ],
            "text/plain": [
              "                                 VAR_NAME        IV\n",
              "94   NAME_EDUCATION_TYPE_Higher education  0.049542\n",
              "247     PREV_BUR_MEAN_DAYS_CREDIT_ENDDATE  0.057699\n",
              "26                             DAYS_BIRTH  0.085315\n",
              "248      PREV_BUR_MEAN_DAYS_CREDIT_UPDATE  0.088445\n",
              "246             PREV_BUR_MEAN_DAYS_CREDIT  0.111373\n",
              "41                           EXT_SOURCE_3  0.297900\n",
              "40                           EXT_SOURCE_2  0.325537"
            ]
          },
          "metadata": {
            "tags": []
          },
          "execution_count": 257
        }
      ]
    },
    {
      "cell_type": "code",
      "metadata": {
        "id": "YbWzj5hVz8_e",
        "colab_type": "code",
        "colab": {}
      },
      "source": [
        " lt_V15=list(variables['VAR_NAME'])"
      ],
      "execution_count": 258,
      "outputs": []
    },
    {
      "cell_type": "code",
      "metadata": {
        "id": "ZclEboRSYsg6",
        "colab_type": "code",
        "colab": {
          "base_uri": "https://localhost:8080/",
          "height": 134
        },
        "outputId": "234bb2d0-f791-45e3-f452-24870586b2be"
      },
      "source": [
        "lt_V15"
      ],
      "execution_count": 259,
      "outputs": [
        {
          "output_type": "execute_result",
          "data": {
            "text/plain": [
              "['NAME_EDUCATION_TYPE_Higher education',\n",
              " 'PREV_BUR_MEAN_DAYS_CREDIT_ENDDATE',\n",
              " 'DAYS_BIRTH',\n",
              " 'PREV_BUR_MEAN_DAYS_CREDIT_UPDATE',\n",
              " 'PREV_BUR_MEAN_DAYS_CREDIT',\n",
              " 'EXT_SOURCE_3',\n",
              " 'EXT_SOURCE_2']"
            ]
          },
          "metadata": {
            "tags": []
          },
          "execution_count": 259
        }
      ]
    },
    {
      "cell_type": "code",
      "metadata": {
        "id": "N3fxOO6Tz8_g",
        "colab_type": "code",
        "colab": {}
      },
      "source": [
        "lt_V15.remove('PREV_BUR_MEAN_DAYS_CREDIT_UPDATE')"
      ],
      "execution_count": 260,
      "outputs": []
    },
    {
      "cell_type": "code",
      "metadata": {
        "id": "yaSxmUkRYgUZ",
        "colab_type": "code",
        "colab": {
          "base_uri": "https://localhost:8080/",
          "height": 118
        },
        "outputId": "5e443a07-3ec5-4e85-80ae-faedcdf4c3c9"
      },
      "source": [
        "lt_V15"
      ],
      "execution_count": 261,
      "outputs": [
        {
          "output_type": "execute_result",
          "data": {
            "text/plain": [
              "['NAME_EDUCATION_TYPE_Higher education',\n",
              " 'PREV_BUR_MEAN_DAYS_CREDIT_ENDDATE',\n",
              " 'DAYS_BIRTH',\n",
              " 'PREV_BUR_MEAN_DAYS_CREDIT',\n",
              " 'EXT_SOURCE_3',\n",
              " 'EXT_SOURCE_2']"
            ]
          },
          "metadata": {
            "tags": []
          },
          "execution_count": 261
        }
      ]
    },
    {
      "cell_type": "markdown",
      "metadata": {
        "id": "0JwhjEh9z8_i",
        "colab_type": "text"
      },
      "source": [
        "## Model 2"
      ]
    },
    {
      "cell_type": "markdown",
      "metadata": {
        "id": "9Yr3qBoiz8_j",
        "colab_type": "text"
      },
      "source": [
        "### Logistic Model with top 50 variables"
      ]
    },
    {
      "cell_type": "code",
      "metadata": {
        "id": "6UboP-8xz8_j",
        "colab_type": "code",
        "colab": {}
      },
      "source": [
        "x_train_15 = x_train[lt_V15]"
      ],
      "execution_count": 262,
      "outputs": []
    },
    {
      "cell_type": "code",
      "metadata": {
        "id": "3UkpOYrGz8_l",
        "colab_type": "code",
        "colab": {}
      },
      "source": [
        "x_test_15=x_test[lt_V15]"
      ],
      "execution_count": 263,
      "outputs": []
    },
    {
      "cell_type": "code",
      "metadata": {
        "id": "VQDd867Mz8_n",
        "colab_type": "code",
        "colab": {}
      },
      "source": [
        "GLM = LogisticRegression(C = 0.01,class_weight='balanced',penalty='l1',solver='liblinear')\n",
        "\n",
        "# Fit the model to the training data\n",
        "GLM.fit(x_train_15, y_train)\n",
        "\n",
        "# Predict on the testing data\n",
        "GLM_pred = GLM.predict_proba(x_test_15)[:, 1]"
      ],
      "execution_count": 264,
      "outputs": []
    },
    {
      "cell_type": "code",
      "metadata": {
        "id": "CuRecg6kMVBC",
        "colab_type": "code",
        "colab": {
          "base_uri": "https://localhost:8080/",
          "height": 50
        },
        "outputId": "6ccd3fdc-fb5c-4af7-c0e0-977ccddfa8c6"
      },
      "source": [
        "pre=GLM.predict_proba(x_test_15)[:, 1]\n",
        "pre"
      ],
      "execution_count": 265,
      "outputs": [
        {
          "output_type": "execute_result",
          "data": {
            "text/plain": [
              "array([0.70048258, 0.43357971, 0.5024442 , ..., 0.30419203, 0.46702208,\n",
              "       0.55036325])"
            ]
          },
          "metadata": {
            "tags": []
          },
          "execution_count": 265
        }
      ]
    },
    {
      "cell_type": "code",
      "metadata": {
        "id": "14fLhCBVLk7A",
        "colab_type": "code",
        "colab": {
          "base_uri": "https://localhost:8080/",
          "height": 50
        },
        "outputId": "9d7c55c3-180f-4c3d-babf-85f760d78804"
      },
      "source": [
        "pre=GLM.predict_proba(x_test_15)[:, 1]\n",
        "pre"
      ],
      "execution_count": 266,
      "outputs": [
        {
          "output_type": "execute_result",
          "data": {
            "text/plain": [
              "array([0.70048258, 0.43357971, 0.5024442 , ..., 0.30419203, 0.46702208,\n",
              "       0.55036325])"
            ]
          },
          "metadata": {
            "tags": []
          },
          "execution_count": 266
        }
      ]
    },
    {
      "cell_type": "code",
      "metadata": {
        "id": "t95ISh5lz8_q",
        "colab_type": "code",
        "colab": {
          "base_uri": "https://localhost:8080/",
          "height": 50
        },
        "outputId": "2551e991-b2ee-4c4b-d979-373510d48e13"
      },
      "source": [
        "pre=GLM.predict_proba(x_test_15)[:, 1]\n",
        "pre"
      ],
      "execution_count": null,
      "outputs": [
        {
          "output_type": "execute_result",
          "data": {
            "text/plain": [
              "array([0.70029005, 0.43330353, 0.50191816, ..., 0.30402161, 0.466352  ,\n",
              "       0.55281237])"
            ]
          },
          "metadata": {
            "tags": []
          },
          "execution_count": 233
        }
      ]
    },
    {
      "cell_type": "code",
      "metadata": {
        "id": "OXuWqkFuz8_s",
        "colab_type": "code",
        "colab": {}
      },
      "source": [
        "datfr=pd.DataFrame(y_test)\n",
        "datfr['Pred']=pre\n",
        "datfr.to_csv(\"conco2.csv\") # Concordance is been done on R"
      ],
      "execution_count": 268,
      "outputs": []
    },
    {
      "cell_type": "markdown",
      "metadata": {
        "id": "IR8nIzDQz8_v",
        "colab_type": "text"
      },
      "source": [
        "#### The accuracy of the model"
      ]
    },
    {
      "cell_type": "code",
      "metadata": {
        "id": "j0yLhNH4z8_v",
        "colab_type": "code",
        "colab": {
          "base_uri": "https://localhost:8080/",
          "height": 34
        },
        "outputId": "8233ad17-cdcb-448f-ee4a-ec7ecacd75ab"
      },
      "source": [
        "logistic_acc = accuracy_score(y_test,GLM_pred.round())\n",
        "print('Logistic accuracy',logistic_acc)"
      ],
      "execution_count": 267,
      "outputs": [
        {
          "output_type": "stream",
          "text": [
            "Logistic accuracy 0.6721168604802414\n"
          ],
          "name": "stdout"
        }
      ]
    },
    {
      "cell_type": "markdown",
      "metadata": {
        "id": "VZe5CPxGz8_x",
        "colab_type": "text"
      },
      "source": [
        "#### The AUROC value"
      ]
    },
    {
      "cell_type": "code",
      "metadata": {
        "id": "ASu9zWHVz8_y",
        "colab_type": "code",
        "colab": {
          "base_uri": "https://localhost:8080/",
          "height": 34
        },
        "outputId": "fd3437f1-71d1-4b86-dcce-4a9ddeae1eac"
      },
      "source": [
        "auc = roc_auc_score(y_test,GLM_pred)\n",
        "print(\"The AUROC value for the model is:\",auc)"
      ],
      "execution_count": 269,
      "outputs": [
        {
          "output_type": "stream",
          "text": [
            "The AUROC value for the model is: 0.716318070522797\n"
          ],
          "name": "stdout"
        }
      ]
    },
    {
      "cell_type": "markdown",
      "metadata": {
        "id": "QoHl9o5oz8_3",
        "colab_type": "text"
      },
      "source": [
        " "
      ]
    },
    {
      "cell_type": "markdown",
      "metadata": {
        "id": "8A7eiQWbz8_4",
        "colab_type": "text"
      },
      "source": [
        " "
      ]
    },
    {
      "cell_type": "markdown",
      "metadata": {
        "id": "HyoxGShDz8_4",
        "colab_type": "text"
      },
      "source": [
        " "
      ]
    },
    {
      "cell_type": "markdown",
      "metadata": {
        "id": "pSU_k1Hgz8_4",
        "colab_type": "text"
      },
      "source": [
        "### Creating AUROC curve for the model"
      ]
    },
    {
      "cell_type": "code",
      "metadata": {
        "id": "ez9mzF99z8_5",
        "colab_type": "code",
        "colab": {}
      },
      "source": [
        "from sklearn import metrics"
      ],
      "execution_count": 270,
      "outputs": []
    },
    {
      "cell_type": "code",
      "metadata": {
        "id": "n2n27-Snz8_9",
        "colab_type": "code",
        "colab": {}
      },
      "source": [
        "def draw_roc(actual,probs):\n",
        "    fpr,tpr,thresholds = metrics.roc_curve(actual,probs,drop_intermediate=False)\n",
        "    \n",
        "    auc_score = metrics.roc_auc_score(actual,probs)\n",
        "    plt.figure(figsize = (8,6))\n",
        "    plt.plot(fpr,tpr,label='ROC curve (area = %0.2f)' %auc_score)\n",
        "    plt.plot([0,1],[0,1],'k--')\n",
        "    plt.xlim([0.0,1.0])\n",
        "    plt.ylim([0.0,1.05])\n",
        "    \n",
        "    plt.xlabel('FPR')\n",
        "    plt.ylabel('TPR')\n",
        "    plt.legend(loc = \"lower right\")\n",
        "    plt.show()\n",
        "    \n",
        "    return fpr, tpr, thresholds"
      ],
      "execution_count": 271,
      "outputs": []
    },
    {
      "cell_type": "code",
      "metadata": {
        "id": "eJ2ChBzez9AB",
        "colab_type": "code",
        "colab": {
          "base_uri": "https://localhost:8080/",
          "height": 388
        },
        "outputId": "aa5ae07e-5044-41e6-af57-d3d036b2d4e0"
      },
      "source": [
        "fpr, tpr, thresholds = draw_roc(y_test, pre)"
      ],
      "execution_count": 272,
      "outputs": [
        {
          "output_type": "display_data",
          "data": {
            "image/png": "[encoded data removed]",
            "text/plain": [
              "<Figure size 576x432 with 1 Axes>"
            ]
          },
          "metadata": {
            "tags": [],
            "needs_background": "light"
          }
        }
      ]
    },
    {
      "cell_type": "code",
      "metadata": {
        "id": "ozjx2yf2z9AE",
        "colab_type": "code",
        "colab": {}
      },
      "source": [
        "len(fpr)"
      ],
      "execution_count": null,
      "outputs": []
    },
    {
      "cell_type": "code",
      "metadata": {
        "id": "5DXe_ThoGVoH",
        "colab_type": "code",
        "colab": {}
      },
      "source": [
        "tpr[37500]"
      ],
      "execution_count": null,
      "outputs": []
    },
    {
      "cell_type": "code",
      "metadata": {
        "id": "bJ4Uzw_GGqqQ",
        "colab_type": "code",
        "colab": {}
      },
      "source": [
        "dft = pd.DataFrame({'tpr':tpr,'fpr':fpr,'thres':thresholds})\n",
        "dft.head()"
      ],
      "execution_count": null,
      "outputs": []
    },
    {
      "cell_type": "code",
      "metadata": {
        "id": "GoWltndvHAon",
        "colab_type": "code",
        "colab": {}
      },
      "source": [
        "dft[(dft['tpr'] >0.65) & (dft['tpr']<0.66)]"
      ],
      "execution_count": null,
      "outputs": []
    },
    {
      "cell_type": "code",
      "metadata": {
        "id": "RN2XSu9VEUgk",
        "colab_type": "code",
        "colab": {}
      },
      "source": [
        "len(tpr)"
      ],
      "execution_count": null,
      "outputs": []
    },
    {
      "cell_type": "code",
      "metadata": {
        "id": "L69m1-29z9AG",
        "colab_type": "code",
        "colab": {}
      },
      "source": [
        "GLM_pred"
      ],
      "execution_count": null,
      "outputs": []
    },
    {
      "cell_type": "code",
      "metadata": {
        "id": "rxK4Yzo8z9AI",
        "colab_type": "code",
        "colab": {
          "base_uri": "https://localhost:8080/",
          "height": 402
        },
        "outputId": "a41f2041-ce25-49fa-9771-82ea12346a10"
      },
      "source": [
        "df=pd.DataFrame(GLM_pred)\n",
        "df.columns=[\"Pred\"]\n",
        "df"
      ],
      "execution_count": 273,
      "outputs": [
        {
          "output_type": "execute_result",
          "data": {
            "text/html": [
              "<div>\n",
              "<style scoped>\n",
              "    .dataframe tbody tr th:only-of-type {\n",
              "        vertical-align: middle;\n",
              "    }\n",
              "\n",
              "    .dataframe tbody tr th {\n",
              "        vertical-align: top;\n",
              "    }\n",
              "\n",
              "    .dataframe thead th {\n",
              "        text-align: right;\n",
              "    }\n",
              "</style>\n",
              "<table border=\"1\" class=\"dataframe\">\n",
              "  <thead>\n",
              "    <tr style=\"text-align: right;\">\n",
              "      <th></th>\n",
              "      <th>Pred</th>\n",
              "    </tr>\n",
              "  </thead>\n",
              "  <tbody>\n",
              "    <tr>\n",
              "      <th>0</th>\n",
              "      <td>0.700483</td>\n",
              "    </tr>\n",
              "    <tr>\n",
              "      <th>1</th>\n",
              "      <td>0.433580</td>\n",
              "    </tr>\n",
              "    <tr>\n",
              "      <th>2</th>\n",
              "      <td>0.502444</td>\n",
              "    </tr>\n",
              "    <tr>\n",
              "      <th>3</th>\n",
              "      <td>0.535117</td>\n",
              "    </tr>\n",
              "    <tr>\n",
              "      <th>4</th>\n",
              "      <td>0.428314</td>\n",
              "    </tr>\n",
              "    <tr>\n",
              "      <th>...</th>\n",
              "      <td>...</td>\n",
              "    </tr>\n",
              "    <tr>\n",
              "      <th>76873</th>\n",
              "      <td>0.522346</td>\n",
              "    </tr>\n",
              "    <tr>\n",
              "      <th>76874</th>\n",
              "      <td>0.421136</td>\n",
              "    </tr>\n",
              "    <tr>\n",
              "      <th>76875</th>\n",
              "      <td>0.304192</td>\n",
              "    </tr>\n",
              "    <tr>\n",
              "      <th>76876</th>\n",
              "      <td>0.467022</td>\n",
              "    </tr>\n",
              "    <tr>\n",
              "      <th>76877</th>\n",
              "      <td>0.550363</td>\n",
              "    </tr>\n",
              "  </tbody>\n",
              "</table>\n",
              "<p>76878 rows × 1 columns</p>\n",
              "</div>"
            ],
            "text/plain": [
              "           Pred\n",
              "0      0.700483\n",
              "1      0.433580\n",
              "2      0.502444\n",
              "3      0.535117\n",
              "4      0.428314\n",
              "...         ...\n",
              "76873  0.522346\n",
              "76874  0.421136\n",
              "76875  0.304192\n",
              "76876  0.467022\n",
              "76877  0.550363\n",
              "\n",
              "[76878 rows x 1 columns]"
            ]
          },
          "metadata": {
            "tags": []
          },
          "execution_count": 273
        }
      ]
    },
    {
      "cell_type": "code",
      "metadata": {
        "id": "Qir2Xm3oz9AL",
        "colab_type": "code",
        "colab": {}
      },
      "source": [
        "df['predicted'] = df.Pred.map(lambda x:1 if x>0.55 else 0)"
      ],
      "execution_count": 274,
      "outputs": []
    },
    {
      "cell_type": "code",
      "metadata": {
        "id": "xhBXRtgSD4Pz",
        "colab_type": "code",
        "colab": {}
      },
      "source": [
        ""
      ],
      "execution_count": null,
      "outputs": []
    },
    {
      "cell_type": "code",
      "metadata": {
        "id": "wUU9gJ-yz9AO",
        "colab_type": "code",
        "colab": {}
      },
      "source": [
        "df['TARGET']=y_test"
      ],
      "execution_count": 275,
      "outputs": []
    },
    {
      "cell_type": "markdown",
      "metadata": {
        "id": "7D9K8Rwez9AT",
        "colab_type": "text"
      },
      "source": [
        "### The F-1 score of the model"
      ]
    },
    {
      "cell_type": "code",
      "metadata": {
        "id": "xo16ohZMz9AT",
        "colab_type": "code",
        "colab": {
          "base_uri": "https://localhost:8080/",
          "height": 168
        },
        "outputId": "8b738daf-9e66-43aa-95c4-54a2e309434a"
      },
      "source": [
        "from sklearn.metrics import classification_report\n",
        "print(classification_report(y_test, df.predicted))"
      ],
      "execution_count": 276,
      "outputs": [
        {
          "output_type": "stream",
          "text": [
            "              precision    recall  f1-score   support\n",
            "\n",
            "           0       0.95      0.76      0.84     70672\n",
            "           1       0.17      0.55      0.25      6206\n",
            "\n",
            "    accuracy                           0.74     76878\n",
            "   macro avg       0.56      0.65      0.55     76878\n",
            "weighted avg       0.89      0.74      0.79     76878\n",
            "\n"
          ],
          "name": "stdout"
        }
      ]
    },
    {
      "cell_type": "code",
      "metadata": {
        "id": "FyqGLihez9AW",
        "colab_type": "code",
        "colab": {
          "base_uri": "https://localhost:8080/",
          "height": 50
        },
        "outputId": "10d5ca32-8014-43a6-fcd2-8875b6794f91"
      },
      "source": [
        "logistic_conf = confusion_matrix(y_test,df.predicted, [0,1])\n",
        "logistic_conf"
      ],
      "execution_count": 277,
      "outputs": [
        {
          "output_type": "execute_result",
          "data": {
            "text/plain": [
              "array([[53444, 17228],\n",
              "       [ 2799,  3407]])"
            ]
          },
          "metadata": {
            "tags": []
          },
          "execution_count": 277
        }
      ]
    },
    {
      "cell_type": "code",
      "metadata": {
        "id": "qXE1adHwI5p_",
        "colab_type": "code",
        "colab": {}
      },
      "source": [
        "tn, fp, fn, tp = confusion_matrix(y_test,df.predicted, [0,1]).ravel()\n",
        "(tn, fp, fn, tp)"
      ],
      "execution_count": null,
      "outputs": []
    },
    {
      "cell_type": "code",
      "metadata": {
        "id": "z1v66KX6HuW7",
        "colab_type": "code",
        "colab": {}
      },
      "source": [
        ""
      ],
      "execution_count": null,
      "outputs": []
    },
    {
      "cell_type": "code",
      "metadata": {
        "id": "Jn2QpiMuz9AY",
        "colab_type": "code",
        "colab": {
          "base_uri": "https://localhost:8080/",
          "height": 34
        },
        "outputId": "556a0a21-127f-4a4e-b93f-21f3dcb36f56"
      },
      "source": [
        "Gini = auc * 2 - 1\n",
        "Gini"
      ],
      "execution_count": 278,
      "outputs": [
        {
          "output_type": "execute_result",
          "data": {
            "text/plain": [
              "0.4326361410455939"
            ]
          },
          "metadata": {
            "tags": []
          },
          "execution_count": 278
        }
      ]
    },
    {
      "cell_type": "code",
      "metadata": {
        "id": "8moWf3Yzz9Aa",
        "colab_type": "code",
        "colab": {}
      },
      "source": [
        ""
      ],
      "execution_count": null,
      "outputs": []
    },
    {
      "cell_type": "code",
      "metadata": {
        "id": "Msheke8mz9Ag",
        "colab_type": "code",
        "colab": {}
      },
      "source": [
        "test_s=test1[lt_V15]"
      ],
      "execution_count": 279,
      "outputs": []
    },
    {
      "cell_type": "code",
      "metadata": {
        "id": "mqdchAYTz9Aj",
        "colab_type": "code",
        "colab": {}
      },
      "source": [
        "GLM_pred_test = GLM.predict_proba(test_s)[:, 1]"
      ],
      "execution_count": 280,
      "outputs": []
    },
    {
      "cell_type": "code",
      "metadata": {
        "id": "L3IN13bZz9Al",
        "colab_type": "code",
        "colab": {
          "base_uri": "https://localhost:8080/",
          "height": 50
        },
        "outputId": "8374efb0-7807-4ab2-adfc-b4a1f3a60386"
      },
      "source": [
        "GLM_pred_test"
      ],
      "execution_count": 281,
      "outputs": [
        {
          "output_type": "execute_result",
          "data": {
            "text/plain": [
              "array([0.3902983 , 0.66073446, 0.16272211, ..., 0.56320786, 0.31351764,\n",
              "       0.6659831 ])"
            ]
          },
          "metadata": {
            "tags": []
          },
          "execution_count": 281
        }
      ]
    },
    {
      "cell_type": "code",
      "metadata": {
        "id": "V-RQqZGLz9Aq",
        "colab_type": "code",
        "colab": {}
      },
      "source": [
        "d=test1['SK_ID_CURR']\n",
        "d =pd.DataFrame(d)"
      ],
      "execution_count": null,
      "outputs": []
    },
    {
      "cell_type": "code",
      "metadata": {
        "id": "nQfuXj0cz9As",
        "colab_type": "code",
        "colab": {}
      },
      "source": [
        "d['TARGET']=GLM_pred_test"
      ],
      "execution_count": null,
      "outputs": []
    },
    {
      "cell_type": "code",
      "metadata": {
        "id": "DJFiT62Xz9Au",
        "colab_type": "code",
        "colab": {}
      },
      "source": [
        "d.to_csv('sample_submission.csv')"
      ],
      "execution_count": null,
      "outputs": []
    },
    {
      "cell_type": "code",
      "metadata": {
        "id": "yYMQ4t0Tz9Aw",
        "colab_type": "code",
        "colab": {}
      },
      "source": [
        "os.getcwd()"
      ],
      "execution_count": null,
      "outputs": []
    },
    {
      "cell_type": "code",
      "metadata": {
        "id": "KwgcEEN1z9Az",
        "colab_type": "code",
        "colab": {}
      },
      "source": [
        ""
      ],
      "execution_count": null,
      "outputs": []
    },
    {
      "cell_type": "code",
      "metadata": {
        "id": "06aK0bXnz9A1",
        "colab_type": "code",
        "colab": {}
      },
      "source": [
        ""
      ],
      "execution_count": null,
      "outputs": []
    },
    {
      "cell_type": "code",
      "metadata": {
        "id": "PD1pOlppz9A4",
        "colab_type": "code",
        "colab": {}
      },
      "source": [
        ""
      ],
      "execution_count": null,
      "outputs": []
    },
    {
      "cell_type": "code",
      "metadata": {
        "id": "o9_qpWCez9A7",
        "colab_type": "code",
        "colab": {}
      },
      "source": [
        ""
      ],
      "execution_count": null,
      "outputs": []
    },
    {
      "cell_type": "code",
      "metadata": {
        "id": "oBjSdrvUz9A-",
        "colab_type": "code",
        "colab": {}
      },
      "source": [
        "conc =pd.DataFrame(y_test)"
      ],
      "execution_count": 282,
      "outputs": []
    },
    {
      "cell_type": "code",
      "metadata": {
        "id": "RI3KSNbPz9BB",
        "colab_type": "code",
        "colab": {}
      },
      "source": [
        "conc[\"Pred\"]=GLM_pred"
      ],
      "execution_count": 283,
      "outputs": []
    },
    {
      "cell_type": "code",
      "metadata": {
        "id": "juk0KipOz9BE",
        "colab_type": "code",
        "colab": {}
      },
      "source": [
        "conc.to_csv('conc2.csv')"
      ],
      "execution_count": 284,
      "outputs": []
    }
  ]
}